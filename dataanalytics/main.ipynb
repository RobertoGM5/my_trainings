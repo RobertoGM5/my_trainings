{
 "cells": [
  {
   "cell_type": "markdown",
   "metadata": {},
   "source": [
    "## Types of python functions\n",
    "- Builtin functions - python 3.6 has 68 builtin functions\n",
    "- Recursive function\n",
    "- Lambda functions\n",
    "- User-defined functions\n",
    "## Control Flow statements\n",
    "- if-else\n",
    "- if-elif-else\n",
    "## Concept of Loops\n",
    "- Loops are used to repeat a block of code.\n",
    "## Strings\n",
    "- A string is a data structure in Python that represents a sequence of characters\n",
    "- Strings are immutable i.e cannot be changed\n",
    "## Concept of List - Python\n",
    "- Lists are used to store multiple items in a single variable\n",
    "- are mutable\n",
    "## Tuples\n",
    "- used to store collections of data\n",
    "- are immutable\n",
    "- are ordered, allows duplicate values\n",
    "## Dictionaries\n",
    "- are used to store data values in key:value pairs\n",
    "- are mutable\n",
    "- are dynamic and can grow and shrink as needed "
   ]
  },
  {
   "cell_type": "markdown",
   "metadata": {},
   "source": [
    "### Built-in functions\n",
    "- List, Tuple, Set, Dictionary"
   ]
  },
  {
   "cell_type": "markdown",
   "metadata": {},
   "source": [
    "#### abs()"
   ]
  },
  {
   "cell_type": "code",
   "execution_count": 1,
   "metadata": {},
   "outputs": [
    {
     "name": "stdout",
     "output_type": "stream",
     "text": [
      "10.5\n",
      "5.830951894845301\n"
     ]
    }
   ],
   "source": [
    "# abs() absolute function\n",
    "x = abs(-10.5) \n",
    "print(x)\n",
    "\n",
    "z = abs(3+5j)\n",
    "print(z)"
   ]
  },
  {
   "cell_type": "markdown",
   "metadata": {},
   "source": [
    "#### Bin Functions\n",
    "- converts numbers into binary"
   ]
  },
  {
   "cell_type": "code",
   "execution_count": 2,
   "metadata": {},
   "outputs": [
    {
     "name": "stdout",
     "output_type": "stream",
     "text": [
      "0b1101\n",
      "0b100100\n",
      "0b111000\n"
     ]
    }
   ],
   "source": [
    "x = bin(13)\n",
    "print(x)\n",
    "\n",
    "y = bin(36)\n",
    "print(y)\n",
    "\n",
    "z = bin(56)\n",
    "print(z)\n"
   ]
  },
  {
   "cell_type": "markdown",
   "metadata": {},
   "source": [
    "#### Python bytes function"
   ]
  },
  {
   "cell_type": "code",
   "execution_count": 3,
   "metadata": {},
   "outputs": [
    {
     "name": "stdout",
     "output_type": "stream",
     "text": [
      "b'\\x00\\x00\\x00\\x00'\n"
     ]
    },
    {
     "data": {
      "text/plain": [
       "b'\\x00\\x00\\x00\\x00\\x00\\x00\\x00\\x00\\x00\\x00\\x00\\x00\\x00\\x00\\x00\\x00'"
      ]
     },
     "execution_count": 3,
     "metadata": {},
     "output_type": "execute_result"
    }
   ],
   "source": [
    "a =bytes(4)\n",
    "print(a)\n",
    "\n",
    "bytes(16)"
   ]
  },
  {
   "cell_type": "markdown",
   "metadata": {},
   "source": [
    "#### Python chr function (character function)\n",
    "- converts unicode to its corresponding alphabetical value\n",
    "- ex: a = 97, b = 98"
   ]
  },
  {
   "cell_type": "code",
   "execution_count": 4,
   "metadata": {},
   "outputs": [
    {
     "name": "stdout",
     "output_type": "stream",
     "text": [
      "a\n",
      "c\n"
     ]
    },
    {
     "data": {
      "text/plain": [
       "'^'"
      ]
     },
     "execution_count": 4,
     "metadata": {},
     "output_type": "execute_result"
    }
   ],
   "source": [
    "print(chr(97))\n",
    "print(chr(99))\n",
    "chr(94)"
   ]
  },
  {
   "cell_type": "markdown",
   "metadata": {},
   "source": [
    "#### Complex function\n",
    "- used to make complex number in python\n",
    "- 2+3j where 2 = real number and 3j is the imaginary number"
   ]
  },
  {
   "cell_type": "code",
   "execution_count": 5,
   "metadata": {},
   "outputs": [
    {
     "name": "stdout",
     "output_type": "stream",
     "text": [
      "(3+5j)\n",
      "(2.5+3.96j)\n",
      "(2+0j)\n"
     ]
    }
   ],
   "source": [
    "k = complex(3,5)\n",
    "print(k)\n",
    "\n",
    "print(complex(2.5,3.96))\n",
    "\n",
    "print(complex(2))"
   ]
  },
  {
   "cell_type": "markdown",
   "metadata": {},
   "source": [
    "#### Float function"
   ]
  },
  {
   "cell_type": "code",
   "execution_count": 6,
   "metadata": {},
   "outputs": [
    {
     "data": {
      "text/plain": [
       "5.538"
      ]
     },
     "execution_count": 6,
     "metadata": {},
     "output_type": "execute_result"
    }
   ],
   "source": [
    "float(3)\n",
    "float(5.538)"
   ]
  },
  {
   "cell_type": "markdown",
   "metadata": {},
   "source": [
    "#### int function"
   ]
  },
  {
   "cell_type": "code",
   "execution_count": 7,
   "metadata": {},
   "outputs": [
    {
     "data": {
      "text/plain": [
       "1"
      ]
     },
     "execution_count": 7,
     "metadata": {},
     "output_type": "execute_result"
    }
   ],
   "source": [
    "int(1.5)"
   ]
  },
  {
   "cell_type": "markdown",
   "metadata": {},
   "source": [
    "#### str() function"
   ]
  },
  {
   "cell_type": "code",
   "execution_count": 8,
   "metadata": {},
   "outputs": [
    {
     "name": "stdout",
     "output_type": "stream",
     "text": [
      "2568\n",
      "<class 'str'>\n"
     ]
    }
   ],
   "source": [
    "a = str(2568)\n",
    "print(a)\n",
    "print(type(a))\n"
   ]
  },
  {
   "cell_type": "markdown",
   "metadata": {},
   "source": [
    "#### help() function"
   ]
  },
  {
   "cell_type": "code",
   "execution_count": 9,
   "metadata": {},
   "outputs": [
    {
     "name": "stdout",
     "output_type": "stream",
     "text": [
      "Help on built-in function print in module builtins:\n",
      "\n",
      "print(...)\n",
      "    print(value, ..., sep=' ', end='\\n', file=sys.stdout, flush=False)\n",
      "    \n",
      "    Prints the values to a stream, or to sys.stdout by default.\n",
      "    Optional keyword arguments:\n",
      "    file:  a file-like object (stream); defaults to the current sys.stdout.\n",
      "    sep:   string inserted between values, default a space.\n",
      "    end:   string appended after the last value, default a newline.\n",
      "    flush: whether to forcibly flush the stream.\n",
      "\n"
     ]
    }
   ],
   "source": [
    "help(print)\n",
    "#help(float)"
   ]
  },
  {
   "cell_type": "markdown",
   "metadata": {},
   "source": [
    "#### input() function"
   ]
  },
  {
   "cell_type": "code",
   "execution_count": 10,
   "metadata": {},
   "outputs": [
    {
     "name": "stdout",
     "output_type": "stream",
     "text": [
      "hello \n"
     ]
    }
   ],
   "source": [
    "user = input('Your name: ')\n",
    "print('hello',user)\n"
   ]
  },
  {
   "cell_type": "markdown",
   "metadata": {},
   "source": [
    "### Control Flow statements\n",
    "#### Flow control\n",
    "1. Conditional statements\n",
    " - if, if-else,if-elif-else,nested if-else\n",
    "2. Transfer Statements\n",
    " - break, continue, pass\n",
    "3. Iterative Statements\n",
    " - for, while  "
   ]
  },
  {
   "cell_type": "code",
   "execution_count": 11,
   "metadata": {},
   "outputs": [
    {
     "name": "stdout",
     "output_type": "stream",
     "text": [
      "Mark scored in percentage by lil is: 34.667\n",
      "Fail\n"
     ]
    }
   ],
   "source": [
    "# x = input('Enter the ame of the student: ')\n",
    "# a = int(input('enter marks scored in English: '))\n",
    "# b = int(input('enter marks scored in Math: '))\n",
    "# c = int(input('enter marks scored in Science: '))\n",
    "# total = a + b + c\n",
    "# per = round((total/300)*100,3)\n",
    "# print(f'Mark scored in percentage by {x} is:', per)\n",
    "# if per >= 90:\n",
    "#     print('Grade A')\n",
    "# elif per >= 75 and per <= 90:\n",
    "#     print('Grade B')\n",
    "# elif per >= 65 and per <= 75:\n",
    "#     print('Grade C')\n",
    "# else:\n",
    "#     print('Fail')"
   ]
  },
  {
   "cell_type": "markdown",
   "metadata": {},
   "source": [
    "### While Loops"
   ]
  },
  {
   "cell_type": "code",
   "execution_count": 3,
   "metadata": {},
   "outputs": [
    {
     "name": "stdout",
     "output_type": "stream",
     "text": [
      "1\n",
      "2\n",
      "3\n",
      "4\n",
      "5\n"
     ]
    }
   ],
   "source": [
    "# Program to display numbers 1 -5\n",
    "i = 1\n",
    "while i <= 5:\n",
    "    print(i)\n",
    "    i += 1"
   ]
  },
  {
   "cell_type": "code",
   "execution_count": 7,
   "metadata": {},
   "outputs": [
    {
     "name": "stdout",
     "output_type": "stream",
     "text": [
      "5 x 1 = 5\n",
      "5 x 2 = 10\n",
      "5 x 3 = 15\n",
      "5 x 4 = 20\n",
      "5 x 5 = 25\n",
      "5 x 6 = 30\n",
      "5 x 7 = 35\n",
      "5 x 8 = 40\n",
      "5 x 9 = 45\n",
      "5 x 10 = 50\n"
     ]
    }
   ],
   "source": [
    "# enter the value from a user and make a multiplication table till 10\n",
    "user_inp = int(input('Enter a number: '))\n",
    "i = 1\n",
    "while i <= 10:\n",
    "    print(f'{user_inp} x {i} = {user_inp * i}')\n",
    "    i +=1"
   ]
  },
  {
   "cell_type": "code",
   "execution_count": 10,
   "metadata": {},
   "outputs": [
    {
     "name": "stdout",
     "output_type": "stream",
     "text": [
      "hello\n",
      "hello\n",
      "hello\n",
      "hello\n",
      "hello\n"
     ]
    }
   ],
   "source": [
    "count = 0\n",
    "while(count < 5):\n",
    "    print('hello')\n",
    "    count += 1\n",
    "    "
   ]
  },
  {
   "cell_type": "code",
   "execution_count": 11,
   "metadata": {},
   "outputs": [
    {
     "name": "stdout",
     "output_type": "stream",
     "text": [
      "hello\n",
      "hello\n",
      "hello\n",
      "hello\n",
      "hello\n",
      "This is else block\n"
     ]
    }
   ],
   "source": [
    "count = 0\n",
    "while(count < 5):\n",
    "    print('hello')\n",
    "    count += 1\n",
    "else:\n",
    "    print('This is else block')"
   ]
  },
  {
   "cell_type": "markdown",
   "metadata": {},
   "source": [
    "### For loop\n",
    "- used to iterate over any sequences such as list, tuple, string, etc"
   ]
  },
  {
   "cell_type": "code",
   "execution_count": 13,
   "metadata": {},
   "outputs": [
    {
     "name": "stdout",
     "output_type": "stream",
     "text": [
      "b\n",
      "a\n",
      "n\n",
      "a\n",
      "n\n",
      "a\n"
     ]
    }
   ],
   "source": [
    "for x in 'banana':\n",
    "    print(x)"
   ]
  },
  {
   "cell_type": "markdown",
   "metadata": {},
   "source": [
    "### User-defined function"
   ]
  },
  {
   "cell_type": "code",
   "execution_count": 3,
   "metadata": {},
   "outputs": [
    {
     "name": "stdout",
     "output_type": "stream",
     "text": [
      "Marks of lolita\n",
      "Marks for mathematics 85\n",
      "Marks for Science 96\n",
      "Contact details of the school\n",
      " Delhi Public School\n",
      " Bangalore Karnataka\n",
      "\n"
     ]
    }
   ],
   "source": [
    "# Making results of a student\n",
    "def contact():\n",
    "    print(\"Contact details of the school\\n Delhi Public School\\n Bangalore Karnataka\\n\")\n",
    "\n",
    "\n",
    "for i in range(1):\n",
    "    user_inp =input(\"Name of the student: \")    \n",
    "    maths = int(input(\"enter marks for Mathematics \"))\n",
    "    science = int(input(\"enter marks for Science \"))\n",
    "    print(f\"Marks of {user_inp}\")\n",
    "    print(f\"Marks for mathematics {maths}\")\n",
    "    print(f\"Marks for Science {science}\")\n",
    "    contact()\n",
    "    \n"
   ]
  },
  {
   "cell_type": "markdown",
   "metadata": {},
   "source": [
    "#### Arguments"
   ]
  },
  {
   "cell_type": "code",
   "execution_count": 7,
   "metadata": {},
   "outputs": [
    {
     "name": "stdout",
     "output_type": "stream",
     "text": [
      "Your bill is  14280\n",
      "Last date of payment is 20 April\n",
      "Delayed payments would amount to a fine of 1000€\n"
     ]
    }
   ],
   "source": [
    "# write a pgm to calculate the electricity bill\n",
    "def  electricity_bill(unit_used):\n",
    "    if unit_used <= 500:\n",
    "        print(\"Your bill is \", unit_used * 5)\n",
    "    elif unit_used > 500 and unit_used <= 700:\n",
    "        print(\"Your bill is \", unit_used * 10)\n",
    "    elif unit_used > 700 and unit_used <= 1000:\n",
    "        print(\"Your bill is \", unit_used * 15)  \n",
    "    elif unit_used > 1000 :\n",
    "        print(\"Your bill is \", unit_used * 20)   \n",
    "\n",
    "\n",
    "\n",
    "def customer_notice():\n",
    "    print(\"Last date of payment is 20 April\")\n",
    "    print(\"Delayed payments would amount to a fine of 1000€\")\n",
    "\n",
    "for i in range(1):\n",
    "    user_name = input(\"Enter the name : \")\n",
    "    unit_used = int(input(\"Enter the unit used: \"))\n",
    "    electricity_bill(unit_used)\n",
    "    customer_notice()"
   ]
  },
  {
   "cell_type": "markdown",
   "metadata": {},
   "source": [
    "#### String"
   ]
  },
  {
   "cell_type": "code",
   "execution_count": 1,
   "metadata": {},
   "outputs": [
    {
     "name": "stdout",
     "output_type": "stream",
     "text": [
      "<class 'str'>\n"
     ]
    }
   ],
   "source": [
    "b = \"We are learning Python\"\n",
    "print(type(b))"
   ]
  },
  {
   "cell_type": "code",
   "execution_count": 3,
   "metadata": {},
   "outputs": [
    {
     "data": {
      "text/plain": [
       "'s'"
      ]
     },
     "execution_count": 3,
     "metadata": {},
     "output_type": "execute_result"
    }
   ],
   "source": [
    "# Indexing of strings\n",
    "a = 'hello strings'\n",
    "a[0]\n",
    "a[-1]"
   ]
  },
  {
   "cell_type": "code",
   "execution_count": 7,
   "metadata": {},
   "outputs": [
    {
     "data": {
      "text/plain": [
       "'hlosr'"
      ]
     },
     "execution_count": 7,
     "metadata": {},
     "output_type": "execute_result"
    }
   ],
   "source": [
    "# slicing\n",
    "# [start:end:stop]\n",
    "s = 'hello strings'\n",
    "s[0:5] \n",
    "s[0:10:2]"
   ]
  },
  {
   "cell_type": "code",
   "execution_count": 8,
   "metadata": {},
   "outputs": [
    {
     "data": {
      "text/plain": [
       "'?uoy era woh sgnirts olleh'"
      ]
     },
     "execution_count": 8,
     "metadata": {},
     "output_type": "execute_result"
    }
   ],
   "source": [
    "# reverse\n",
    "r = 'hello strings how are you?'\n",
    "r[::-1]"
   ]
  },
  {
   "cell_type": "code",
   "execution_count": 11,
   "metadata": {},
   "outputs": [
    {
     "name": "stdout",
     "output_type": "stream",
     "text": [
      "HELLO STRINGS HOW ARE YOU?\n"
     ]
    },
    {
     "data": {
      "text/plain": [
       "'hello strings how are you?'"
      ]
     },
     "execution_count": 11,
     "metadata": {},
     "output_type": "execute_result"
    }
   ],
   "source": [
    "# upper and lower method\n",
    "r = 'hello strings how are you?'\n",
    "print(r.upper())\n",
    "r = 'HELLO STRINGS HOW ARE YOU?'\n",
    "r.lower()\n"
   ]
  },
  {
   "cell_type": "code",
   "execution_count": 14,
   "metadata": {},
   "outputs": [
    {
     "name": "stdout",
     "output_type": "stream",
     "text": [
      "bye strings how are you?\n"
     ]
    }
   ],
   "source": [
    "r = 'hello strings how are you?'\n",
    "print(r.replace('hello','bye'))\n"
   ]
  },
  {
   "cell_type": "markdown",
   "metadata": {},
   "source": [
    "#### LISTS\n",
    "- are ordered , changeable, and allow duplicated values"
   ]
  },
  {
   "cell_type": "code",
   "execution_count": 1,
   "metadata": {},
   "outputs": [
    {
     "data": {
      "text/plain": [
       "['apple', 'apple', 'Banana', 'cherry']"
      ]
     },
     "execution_count": 1,
     "metadata": {},
     "output_type": "execute_result"
    }
   ],
   "source": [
    "my_list = [\"apple\", \"apple\", \"Banana\", \"cherry\"]\n",
    "my_list"
   ]
  },
  {
   "cell_type": "code",
   "execution_count": 2,
   "metadata": {},
   "outputs": [
    {
     "data": {
      "text/plain": [
       "6"
      ]
     },
     "execution_count": 2,
     "metadata": {},
     "output_type": "execute_result"
    }
   ],
   "source": [
    "list_1 = [12,3,5, 'students',True, False]\n",
    "len(list_1)"
   ]
  },
  {
   "cell_type": "markdown",
   "metadata": {},
   "source": [
    "##### Accessing items in a List"
   ]
  },
  {
   "cell_type": "code",
   "execution_count": 4,
   "metadata": {},
   "outputs": [
    {
     "name": "stdout",
     "output_type": "stream",
     "text": [
      "Toothpaste\n"
     ]
    }
   ],
   "source": [
    "list_2 = [12,3,5, 'students',True, False,63,78, \"Toothpaste\"]\n",
    "print(list_2[-1])"
   ]
  },
  {
   "cell_type": "code",
   "execution_count": 6,
   "metadata": {},
   "outputs": [
    {
     "data": {
      "text/plain": [
       "[12, 3, 5, 'students', True]"
      ]
     },
     "execution_count": 6,
     "metadata": {},
     "output_type": "execute_result"
    }
   ],
   "source": [
    "# Slicing of list\n",
    "list_2 = [12,3,5, 'students',True, False,63,78, \"Toothpaste\"]\n",
    "list_2[0:5]"
   ]
  },
  {
   "cell_type": "markdown",
   "metadata": {},
   "source": [
    "#### changing items in a list"
   ]
  },
  {
   "cell_type": "code",
   "execution_count": 7,
   "metadata": {},
   "outputs": [
    {
     "data": {
      "text/plain": [
       "['apple', 'strawberry', 'Banana', 'cherry']"
      ]
     },
     "execution_count": 7,
     "metadata": {},
     "output_type": "execute_result"
    }
   ],
   "source": [
    "new_list = [\"apple\", \"apple\", \"Banana\", \"cherry\"]\n",
    "new_list[1] = \"strawberry\"\n",
    "new_list"
   ]
  },
  {
   "cell_type": "markdown",
   "metadata": {},
   "source": [
    "#### Changing a range of items in list"
   ]
  },
  {
   "cell_type": "code",
   "execution_count": 9,
   "metadata": {},
   "outputs": [
    {
     "name": "stdout",
     "output_type": "stream",
     "text": [
      "[12, 3, 'books', 'pen', 'paper', True, False, 63, 78, 'Toothpaste', 12]\n"
     ]
    }
   ],
   "source": [
    "list_2 = [12,3,5, 'students',True, False,63,78, \"Toothpaste\"]\n",
    "list_2[2:4] = ['books', 'pen','paper']\n",
    "list_2\n",
    "list_2.append(12)\n",
    "print(list_2)"
   ]
  },
  {
   "cell_type": "markdown",
   "metadata": {},
   "source": [
    "#### Reversing a list"
   ]
  },
  {
   "cell_type": "code",
   "execution_count": 10,
   "metadata": {},
   "outputs": [
    {
     "data": {
      "text/plain": [
       "['Toothpaste', 78, 63, False, True, 'students', 5, 3, 12]"
      ]
     },
     "execution_count": 10,
     "metadata": {},
     "output_type": "execute_result"
    }
   ],
   "source": [
    "list_2 = [12,3,5, 'students',True, False,63,78, \"Toothpaste\"]\n",
    "list_2[::-1]"
   ]
  },
  {
   "cell_type": "code",
   "execution_count": 11,
   "metadata": {},
   "outputs": [
    {
     "data": {
      "text/plain": [
       "['Toothpaste', 78, 63, False, True, 'students', 5, 3, 12]"
      ]
     },
     "execution_count": 11,
     "metadata": {},
     "output_type": "execute_result"
    }
   ],
   "source": [
    "list_2 = [12,3,5, 'students',True, False,63,78, \"Toothpaste\"]\n",
    "list_2.reverse()\n",
    "list_2"
   ]
  },
  {
   "cell_type": "code",
   "execution_count": 14,
   "metadata": {},
   "outputs": [
    {
     "name": "stdout",
     "output_type": "stream",
     "text": [
      "402\n"
     ]
    }
   ],
   "source": [
    "# sum of a list\n",
    "to_sum = [12,14,58,47,69,45,63,25,69]\n",
    "#print(sum(to_sum))\n",
    "a = 0\n",
    "for i in range(len(to_sum)):\n",
    "    a = a + to_sum[i]\n",
    "    i +=1\n",
    "print(a)"
   ]
  },
  {
   "cell_type": "code",
   "execution_count": 20,
   "metadata": {},
   "outputs": [
    {
     "name": "stdout",
     "output_type": "stream",
     "text": [
      "3628800\n"
     ]
    }
   ],
   "source": [
    "a = [1,2,3,4,5,6,7,8,9,10]\n",
    "#print(len(a))\n",
    "n = 1\n",
    "for i in range(len(a)):\n",
    "    n = n * a[i]\n",
    "    i += 1\n",
    "print(n)"
   ]
  },
  {
   "cell_type": "markdown",
   "metadata": {},
   "source": [
    "#### Tuples"
   ]
  },
  {
   "cell_type": "code",
   "execution_count": 2,
   "metadata": {},
   "outputs": [
    {
     "data": {
      "text/plain": [
       "(1, 2, 3)"
      ]
     },
     "execution_count": 2,
     "metadata": {},
     "output_type": "execute_result"
    }
   ],
   "source": [
    "my_tuple = (1,2,3)\n",
    "my_tuple"
   ]
  },
  {
   "cell_type": "code",
   "execution_count": 4,
   "metadata": {},
   "outputs": [
    {
     "name": "stdout",
     "output_type": "stream",
     "text": [
      "('Data', [1, 2, 3], (4, 5, 6))\n"
     ]
    }
   ],
   "source": [
    "# Nested Tuples\n",
    "a = (\"Data\", [1,2,3],(4,5,6))\n",
    "print(a)"
   ]
  },
  {
   "cell_type": "code",
   "execution_count": 5,
   "metadata": {},
   "outputs": [
    {
     "name": "stdout",
     "output_type": "stream",
     "text": [
      "<class 'str'>\n",
      "<class 'tuple'>\n"
     ]
    }
   ],
   "source": [
    "var_1 = ('hello')\n",
    "print(type(var_1))\n",
    "var_2 = ('hello',)\n",
    "print(type(var_2))"
   ]
  },
  {
   "cell_type": "markdown",
   "metadata": {},
   "source": [
    "#### Tuple constructor"
   ]
  },
  {
   "cell_type": "code",
   "execution_count": 6,
   "metadata": {},
   "outputs": [
    {
     "name": "stdout",
     "output_type": "stream",
     "text": [
      "('a', 'b', 'c')\n",
      "<class 'tuple'>\n"
     ]
    }
   ],
   "source": [
    "b = tuple(('a', 'b', 'c'))\n",
    "print(b)\n",
    "print(type(b))"
   ]
  },
  {
   "cell_type": "markdown",
   "metadata": {},
   "source": [
    "#### Indexing"
   ]
  },
  {
   "cell_type": "code",
   "execution_count": 7,
   "metadata": {},
   "outputs": [
    {
     "data": {
      "text/plain": [
       "'python'"
      ]
     },
     "execution_count": 7,
     "metadata": {},
     "output_type": "execute_result"
    }
   ],
   "source": [
    "c = ('a', 'b', 'c',22, 25, 'data', 'python')\n",
    "c[-1]"
   ]
  },
  {
   "cell_type": "markdown",
   "metadata": {},
   "source": [
    "#### Slicing"
   ]
  },
  {
   "cell_type": "code",
   "execution_count": 8,
   "metadata": {},
   "outputs": [
    {
     "data": {
      "text/plain": [
       "('a', 'b', 'c', 22, 25, 'data')"
      ]
     },
     "execution_count": 8,
     "metadata": {},
     "output_type": "execute_result"
    }
   ],
   "source": [
    "c = ('a', 'b', 'c',22, 25, 'data', 'python')\n",
    "c[0:6]"
   ]
  },
  {
   "cell_type": "code",
   "execution_count": 10,
   "metadata": {},
   "outputs": [
    {
     "name": "stdout",
     "output_type": "stream",
     "text": [
      "(1, 2, 3, 4, 5, 6, 7, 8)\n",
      "(4, 5, 6, 7, 8)\n",
      "(1, 2, 3, 4)\n",
      "()\n"
     ]
    }
   ],
   "source": [
    "T = (1,2,3,4,5,6,7,8,)\n",
    "print(T[::])\n",
    "print(T[3:])\n",
    "print(T[:4])\n",
    "print(T[-2:-5])"
   ]
  },
  {
   "cell_type": "markdown",
   "metadata": {},
   "source": [
    "#### loop"
   ]
  },
  {
   "cell_type": "code",
   "execution_count": 11,
   "metadata": {},
   "outputs": [
    {
     "name": "stdout",
     "output_type": "stream",
     "text": [
      "a\n",
      "b\n",
      "c\n"
     ]
    }
   ],
   "source": [
    "this_tuple = ('a', 'b', 'c')\n",
    "for x in this_tuple:\n",
    "    print(x)\n",
    "    "
   ]
  },
  {
   "cell_type": "code",
   "execution_count": 12,
   "metadata": {},
   "outputs": [
    {
     "data": {
      "text/plain": [
       "('a', 'b', 'c', 1, 2, 3, 4, 5, 6, 7, 8)"
      ]
     },
     "execution_count": 12,
     "metadata": {},
     "output_type": "execute_result"
    }
   ],
   "source": [
    "# join tuples\n",
    "this_tuple = ('a', 'b', 'c')\n",
    "T = (1,2,3,4,5,6,7,8,)\n",
    "x = this_tuple + T\n",
    "x"
   ]
  },
  {
   "cell_type": "code",
   "execution_count": 13,
   "metadata": {},
   "outputs": [
    {
     "name": "stdout",
     "output_type": "stream",
     "text": [
      "(1, 2, 3, 4, 5)\n"
     ]
    }
   ],
   "source": [
    "l=[]\n",
    "for i in range(5):\n",
    "    a=int(input(\"Enter a number=\"))\n",
    "    l.append(a)\n",
    "    t=tuple(l)\n",
    "print(t)"
   ]
  },
  {
   "cell_type": "markdown",
   "metadata": {},
   "source": [
    "#### dictionary"
   ]
  },
  {
   "cell_type": "code",
   "execution_count": 7,
   "metadata": {},
   "outputs": [
    {
     "data": {
      "text/plain": [
       "{'ID': '123ab', 'color': 'Black', 'year': 1964}"
      ]
     },
     "execution_count": 7,
     "metadata": {},
     "output_type": "execute_result"
    }
   ],
   "source": [
    "dict_1 = {\n",
    "    'ID' : '123ab',\n",
    "    'color' : 'Black',\n",
    "    'year' : 1964\n",
    "}\n",
    "\n",
    "dict_1"
   ]
  },
  {
   "cell_type": "code",
   "execution_count": 9,
   "metadata": {},
   "outputs": [
    {
     "data": {
      "text/plain": [
       "2000"
      ]
     },
     "execution_count": 9,
     "metadata": {},
     "output_type": "execute_result"
    }
   ],
   "source": [
    "dict_1 = {\n",
    "    'ID' : '123ab',\n",
    "    'color' : 'Black',\n",
    "    'year' : 1964,\n",
    "    'year' : 2000\n",
    "}\n",
    "\n",
    "dict_1['year']"
   ]
  },
  {
   "cell_type": "code",
   "execution_count": 12,
   "metadata": {},
   "outputs": [
    {
     "name": "stdout",
     "output_type": "stream",
     "text": [
      "3\n"
     ]
    }
   ],
   "source": [
    "# length of dictionary\n",
    "dict_1 = {\n",
    "    'ID' : '123ab',\n",
    "    'color' : 'Black',\n",
    "    'year' : 1964,\n",
    "    'year' : 2000\n",
    "}\n",
    "\n",
    "print(len(dict_1))"
   ]
  },
  {
   "cell_type": "code",
   "execution_count": 14,
   "metadata": {},
   "outputs": [
    {
     "data": {
      "text/plain": [
       "{'ID': '123ab',\n",
       " 'color': 'Black',\n",
       " 'year': 1964,\n",
       " 'a': [1, 2, 3, 4, 5],\n",
       " 'b': (2.2, 5.3),\n",
       " 'c': False}"
      ]
     },
     "execution_count": 14,
     "metadata": {},
     "output_type": "execute_result"
    }
   ],
   "source": [
    "dict_2 = {\n",
    "    'ID' : '123ab',\n",
    "    'color' : 'Black',\n",
    "    'year' : 1964,\n",
    "    'a' : [1,2,3,4,5],\n",
    "    'b' : (2.2,5.3),\n",
    "    'c' : False\n",
    "}\n",
    "\n",
    "dict_2"
   ]
  },
  {
   "cell_type": "code",
   "execution_count": 21,
   "metadata": {},
   "outputs": [
    {
     "name": "stdout",
     "output_type": "stream",
     "text": [
      "{'name': 'swati', 'age': 22, 'country': 'India'}\n",
      "dict_keys(['name', 'age', 'country'])\n"
     ]
    }
   ],
   "source": [
    "# dictinary constructor\n",
    "dict_3 = dict(name = 'swati', age = 22, country = 'India')\n",
    "print(dict_3)\n",
    "\n",
    "x = dict_3.keys()\n",
    "print(x)"
   ]
  },
  {
   "cell_type": "code",
   "execution_count": 22,
   "metadata": {},
   "outputs": [
    {
     "data": {
      "text/plain": [
       "dict_values(['swati', 22, 'India'])"
      ]
     },
     "execution_count": 22,
     "metadata": {},
     "output_type": "execute_result"
    }
   ],
   "source": [
    "dict_3 = dict(name = 'swati', age = 22, country = 'India')\n",
    "y = dict_3.values()\n",
    "y"
   ]
  },
  {
   "cell_type": "markdown",
   "metadata": {},
   "source": [
    "### modifying a dictionary"
   ]
  },
  {
   "cell_type": "code",
   "execution_count": 24,
   "metadata": {},
   "outputs": [
    {
     "name": "stdout",
     "output_type": "stream",
     "text": [
      "{'name': 'swati', 'age': 28, 'country': 'India'}\n",
      "{'name': 'swati', 'age': 28, 'country': 'India', 'mail id': 'swati@gmail.com'}\n"
     ]
    }
   ],
   "source": [
    "dict_3 = dict(name = 'swati', age = 22, country = 'India')\n",
    "dict_3['age'] = 28\n",
    "print(dict_3)\n",
    "\n",
    "dict_3.update({'mail id' : 'swati@gmail.com'})\n",
    "print(dict_3)"
   ]
  },
  {
   "cell_type": "code",
   "execution_count": 26,
   "metadata": {},
   "outputs": [
    {
     "name": "stdout",
     "output_type": "stream",
     "text": [
      "{'ID': '123ab', 'year': 1964, 'a': [1, 2, 3, 4, 5], 'b': (2.2, 5.3)}\n"
     ]
    }
   ],
   "source": [
    "dict_2 = {\n",
    "    'ID' : '123ab',\n",
    "    'color' : 'Black',\n",
    "    'year' : 1964,\n",
    "    'a' : [1,2,3,4,5],\n",
    "    'b' : (2.2,5.3),\n",
    "    'c' : False\n",
    "}\n",
    "\n",
    "dict_2.pop('c')\n",
    "del dict_2['color']\n",
    "print(dict_2)"
   ]
  },
  {
   "cell_type": "code",
   "execution_count": 27,
   "metadata": {},
   "outputs": [
    {
     "ename": "NameError",
     "evalue": "name 'dict_2' is not defined",
     "output_type": "error",
     "traceback": [
      "\u001b[0;31m---------------------------------------------------------------------------\u001b[0m",
      "\u001b[0;31mNameError\u001b[0m                                 Traceback (most recent call last)",
      "Cell \u001b[0;32mIn[27], line 11\u001b[0m\n\u001b[1;32m      1\u001b[0m dict_2 \u001b[39m=\u001b[39m {\n\u001b[1;32m      2\u001b[0m     \u001b[39m'\u001b[39m\u001b[39mID\u001b[39m\u001b[39m'\u001b[39m : \u001b[39m'\u001b[39m\u001b[39m123ab\u001b[39m\u001b[39m'\u001b[39m,\n\u001b[1;32m      3\u001b[0m     \u001b[39m'\u001b[39m\u001b[39mcolor\u001b[39m\u001b[39m'\u001b[39m : \u001b[39m'\u001b[39m\u001b[39mBlack\u001b[39m\u001b[39m'\u001b[39m,\n\u001b[0;32m   (...)\u001b[0m\n\u001b[1;32m      7\u001b[0m     \u001b[39m'\u001b[39m\u001b[39mc\u001b[39m\u001b[39m'\u001b[39m : \u001b[39mFalse\u001b[39;00m\n\u001b[1;32m      8\u001b[0m }\n\u001b[1;32m     10\u001b[0m \u001b[39mdel\u001b[39;00m dict_2\n\u001b[0;32m---> 11\u001b[0m dict_2\n",
      "\u001b[0;31mNameError\u001b[0m: name 'dict_2' is not defined"
     ]
    }
   ],
   "source": [
    "dict_2 = {\n",
    "    'ID' : '123ab',\n",
    "    'color' : 'Black',\n",
    "    'year' : 1964,\n",
    "    'a' : [1,2,3,4,5],\n",
    "    'b' : (2.2,5.3),\n",
    "    'c' : False\n",
    "}\n",
    "\n",
    "del dict_2\n",
    "dict_2"
   ]
  },
  {
   "cell_type": "code",
   "execution_count": 29,
   "metadata": {},
   "outputs": [
    {
     "name": "stdout",
     "output_type": "stream",
     "text": [
      "{1: 10, 2: 20, 3: 30, 4: 40, 5: 50, 6: 60}\n"
     ]
    }
   ],
   "source": [
    "dict1 = {1:10, 2:20}\n",
    "dict2 = {3:30, 4:40}\n",
    "dict3 = {5:50, 6:60}\n",
    "dict4 = {}\n",
    "for d in (dict1, dict2, dict3): dict4.update(d)\n",
    "print(dict4)"
   ]
  },
  {
   "cell_type": "code",
   "execution_count": 30,
   "metadata": {},
   "outputs": [
    {
     "name": "stdout",
     "output_type": "stream",
     "text": [
      "{1: 1, 2: 4, 3: 9, 4: 16, 5: 25, 6: 36, 7: 49, 8: 64, 9: 81, 10: 100, 11: 121, 12: 144, 13: 169, 14: 196, 15: 225}\n"
     ]
    }
   ],
   "source": [
    "d = dict()\n",
    "for x in range(1,16):\n",
    "    d[x] =x**2\n",
    "print(d)"
   ]
  },
  {
   "cell_type": "code",
   "execution_count": 2,
   "metadata": {},
   "outputs": [
    {
     "name": "stdout",
     "output_type": "stream",
     "text": [
      "The key exists in the dictionary.\n"
     ]
    }
   ],
   "source": [
    "\n",
    "a = { \"name\": \"xyz\",\n",
    "      \"age\": 26,\n",
    "      \"country\": \"Bharat\", \"gender\":\"male/female\" }\n",
    "\n",
    "def is_key_present(x):\n",
    "\n",
    "    if x in a:\n",
    "        print(\"The key exists in the dictionary.\")\n",
    "    else:\n",
    "        print(\"The key does not exist in the dictionary.\")\n",
    "\n",
    "is_key_present('age')"
   ]
  }
 ],
 "metadata": {
  "kernelspec": {
   "display_name": "Python 3",
   "language": "python",
   "name": "python3"
  },
  "language_info": {
   "codemirror_mode": {
    "name": "ipython",
    "version": 3
   },
   "file_extension": ".py",
   "mimetype": "text/x-python",
   "name": "python",
   "nbconvert_exporter": "python",
   "pygments_lexer": "ipython3",
   "version": "3.10.12"
  },
  "orig_nbformat": 4
 },
 "nbformat": 4,
 "nbformat_minor": 2
}
