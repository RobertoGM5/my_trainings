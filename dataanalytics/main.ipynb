{
 "cells": [
  {
   "cell_type": "markdown",
   "metadata": {},
   "source": [
    "## Types of python functions\n",
    "- Builtin functions - python 3.6 has 68 builtin functions\n",
    "- Recursive function\n",
    "- Lambda functions\n",
    "- User-defined functions\n",
    "## Control Flow statements\n",
    "- if-else\n",
    "- if.elif-else\n",
    "## Concept of Loops\n",
    "- Loops are used to repeat a block of code.\n",
    "## Strings\n",
    "- A string is a data structure in Python that represents a sequence of characters\n",
    "- Strings are immutable i.e cannot be changed\n",
    "## Concept of List - Python\n",
    "- Lists are used to store multiple items in a single variable\n"
   ]
  },
  {
   "cell_type": "markdown",
   "metadata": {},
   "source": [
    "### Built-in functions\n",
    "- List, Tuple, Set, Dictionary"
   ]
  },
  {
   "cell_type": "markdown",
   "metadata": {},
   "source": [
    "#### abs()"
   ]
  },
  {
   "cell_type": "code",
   "execution_count": 1,
   "metadata": {},
   "outputs": [
    {
     "name": "stdout",
     "output_type": "stream",
     "text": [
      "10.5\n",
      "5.830951894845301\n"
     ]
    }
   ],
   "source": [
    "# abs() absolute function\n",
    "x = abs(-10.5) \n",
    "print(x)\n",
    "\n",
    "z = abs(3+5j)\n",
    "print(z)"
   ]
  },
  {
   "cell_type": "markdown",
   "metadata": {},
   "source": [
    "#### Bin Functions\n",
    "- converts numbers into binary"
   ]
  },
  {
   "cell_type": "code",
   "execution_count": 2,
   "metadata": {},
   "outputs": [
    {
     "name": "stdout",
     "output_type": "stream",
     "text": [
      "0b1101\n",
      "0b100100\n",
      "0b111000\n"
     ]
    }
   ],
   "source": [
    "x = bin(13)\n",
    "print(x)\n",
    "\n",
    "y = bin(36)\n",
    "print(y)\n",
    "\n",
    "z = bin(56)\n",
    "print(z)\n"
   ]
  },
  {
   "cell_type": "markdown",
   "metadata": {},
   "source": [
    "#### Python bytes function"
   ]
  },
  {
   "cell_type": "code",
   "execution_count": 3,
   "metadata": {},
   "outputs": [
    {
     "name": "stdout",
     "output_type": "stream",
     "text": [
      "b'\\x00\\x00\\x00\\x00'\n"
     ]
    },
    {
     "data": {
      "text/plain": [
       "b'\\x00\\x00\\x00\\x00\\x00\\x00\\x00\\x00\\x00\\x00\\x00\\x00\\x00\\x00\\x00\\x00'"
      ]
     },
     "execution_count": 3,
     "metadata": {},
     "output_type": "execute_result"
    }
   ],
   "source": [
    "a =bytes(4)\n",
    "print(a)\n",
    "\n",
    "bytes(16)"
   ]
  },
  {
   "cell_type": "markdown",
   "metadata": {},
   "source": [
    "#### Python chr function (character function)\n",
    "- converts unicode to its corresponding alphabetical value\n",
    "- ex: a = 97, b = 98"
   ]
  },
  {
   "cell_type": "code",
   "execution_count": 4,
   "metadata": {},
   "outputs": [
    {
     "name": "stdout",
     "output_type": "stream",
     "text": [
      "a\n",
      "c\n"
     ]
    },
    {
     "data": {
      "text/plain": [
       "'^'"
      ]
     },
     "execution_count": 4,
     "metadata": {},
     "output_type": "execute_result"
    }
   ],
   "source": [
    "print(chr(97))\n",
    "print(chr(99))\n",
    "chr(94)"
   ]
  },
  {
   "cell_type": "markdown",
   "metadata": {},
   "source": [
    "#### Complex function\n",
    "- used to make complex number in python\n",
    "- 2+3j where 2 = real number and 3j is the imaginary number"
   ]
  },
  {
   "cell_type": "code",
   "execution_count": 5,
   "metadata": {},
   "outputs": [
    {
     "name": "stdout",
     "output_type": "stream",
     "text": [
      "(3+5j)\n",
      "(2.5+3.96j)\n",
      "(2+0j)\n"
     ]
    }
   ],
   "source": [
    "k = complex(3,5)\n",
    "print(k)\n",
    "\n",
    "print(complex(2.5,3.96))\n",
    "\n",
    "print(complex(2))"
   ]
  },
  {
   "cell_type": "markdown",
   "metadata": {},
   "source": [
    "#### Float function"
   ]
  },
  {
   "cell_type": "code",
   "execution_count": 6,
   "metadata": {},
   "outputs": [
    {
     "data": {
      "text/plain": [
       "5.538"
      ]
     },
     "execution_count": 6,
     "metadata": {},
     "output_type": "execute_result"
    }
   ],
   "source": [
    "float(3)\n",
    "float(5.538)"
   ]
  },
  {
   "cell_type": "markdown",
   "metadata": {},
   "source": [
    "#### int function"
   ]
  },
  {
   "cell_type": "code",
   "execution_count": 7,
   "metadata": {},
   "outputs": [
    {
     "data": {
      "text/plain": [
       "1"
      ]
     },
     "execution_count": 7,
     "metadata": {},
     "output_type": "execute_result"
    }
   ],
   "source": [
    "int(1.5)"
   ]
  },
  {
   "cell_type": "markdown",
   "metadata": {},
   "source": [
    "#### str() function"
   ]
  },
  {
   "cell_type": "code",
   "execution_count": 8,
   "metadata": {},
   "outputs": [
    {
     "name": "stdout",
     "output_type": "stream",
     "text": [
      "2568\n",
      "<class 'str'>\n"
     ]
    }
   ],
   "source": [
    "a = str(2568)\n",
    "print(a)\n",
    "print(type(a))\n"
   ]
  },
  {
   "cell_type": "markdown",
   "metadata": {},
   "source": [
    "#### help() function"
   ]
  },
  {
   "cell_type": "code",
   "execution_count": 9,
   "metadata": {},
   "outputs": [
    {
     "name": "stdout",
     "output_type": "stream",
     "text": [
      "Help on built-in function print in module builtins:\n",
      "\n",
      "print(...)\n",
      "    print(value, ..., sep=' ', end='\\n', file=sys.stdout, flush=False)\n",
      "    \n",
      "    Prints the values to a stream, or to sys.stdout by default.\n",
      "    Optional keyword arguments:\n",
      "    file:  a file-like object (stream); defaults to the current sys.stdout.\n",
      "    sep:   string inserted between values, default a space.\n",
      "    end:   string appended after the last value, default a newline.\n",
      "    flush: whether to forcibly flush the stream.\n",
      "\n"
     ]
    }
   ],
   "source": [
    "help(print)\n",
    "#help(float)"
   ]
  },
  {
   "cell_type": "markdown",
   "metadata": {},
   "source": [
    "#### input() function"
   ]
  },
  {
   "cell_type": "code",
   "execution_count": 10,
   "metadata": {},
   "outputs": [
    {
     "name": "stdout",
     "output_type": "stream",
     "text": [
      "hello \n"
     ]
    }
   ],
   "source": [
    "user = input('Your name: ')\n",
    "print('hello',user)\n"
   ]
  },
  {
   "cell_type": "markdown",
   "metadata": {},
   "source": [
    "### Control Flow statements\n",
    "#### Flow control\n",
    "1. Conditional statements\n",
    " - if, if-else,if-elif-else,nested if-else\n",
    "2. Transfer Statements\n",
    " - break, continue, pass\n",
    "3. Iterative Statements\n",
    " - for, while  "
   ]
  },
  {
   "cell_type": "code",
   "execution_count": 11,
   "metadata": {},
   "outputs": [
    {
     "name": "stdout",
     "output_type": "stream",
     "text": [
      "Mark scored in percentage by lil is: 34.667\n",
      "Fail\n"
     ]
    }
   ],
   "source": [
    "# x = input('Enter the ame of the student: ')\n",
    "# a = int(input('enter marks scored in English: '))\n",
    "# b = int(input('enter marks scored in Math: '))\n",
    "# c = int(input('enter marks scored in Science: '))\n",
    "# total = a + b + c\n",
    "# per = round((total/300)*100,3)\n",
    "# print(f'Mark scored in percentage by {x} is:', per)\n",
    "# if per >= 90:\n",
    "#     print('Grade A')\n",
    "# elif per >= 75 and per <= 90:\n",
    "#     print('Grade B')\n",
    "# elif per >= 65 and per <= 75:\n",
    "#     print('Grade C')\n",
    "# else:\n",
    "#     print('Fail')"
   ]
  },
  {
   "cell_type": "markdown",
   "metadata": {},
   "source": [
    "### While Loops"
   ]
  },
  {
   "cell_type": "code",
   "execution_count": 3,
   "metadata": {},
   "outputs": [
    {
     "name": "stdout",
     "output_type": "stream",
     "text": [
      "1\n",
      "2\n",
      "3\n",
      "4\n",
      "5\n"
     ]
    }
   ],
   "source": [
    "# Program to display numbers 1 -5\n",
    "i = 1\n",
    "while i <= 5:\n",
    "    print(i)\n",
    "    i += 1"
   ]
  },
  {
   "cell_type": "code",
   "execution_count": 7,
   "metadata": {},
   "outputs": [
    {
     "name": "stdout",
     "output_type": "stream",
     "text": [
      "5 x 1 = 5\n",
      "5 x 2 = 10\n",
      "5 x 3 = 15\n",
      "5 x 4 = 20\n",
      "5 x 5 = 25\n",
      "5 x 6 = 30\n",
      "5 x 7 = 35\n",
      "5 x 8 = 40\n",
      "5 x 9 = 45\n",
      "5 x 10 = 50\n"
     ]
    }
   ],
   "source": [
    "# enter the value from a user and make a multiplication table till 10\n",
    "user_inp = int(input('Enter a number: '))\n",
    "i = 1\n",
    "while i <= 10:\n",
    "    print(f'{user_inp} x {i} = {user_inp * i}')\n",
    "    i +=1"
   ]
  },
  {
   "cell_type": "code",
   "execution_count": 10,
   "metadata": {},
   "outputs": [
    {
     "name": "stdout",
     "output_type": "stream",
     "text": [
      "hello\n",
      "hello\n",
      "hello\n",
      "hello\n",
      "hello\n"
     ]
    }
   ],
   "source": [
    "count = 0\n",
    "while(count < 5):\n",
    "    print('hello')\n",
    "    count += 1\n",
    "    "
   ]
  },
  {
   "cell_type": "code",
   "execution_count": 11,
   "metadata": {},
   "outputs": [
    {
     "name": "stdout",
     "output_type": "stream",
     "text": [
      "hello\n",
      "hello\n",
      "hello\n",
      "hello\n",
      "hello\n",
      "This is else block\n"
     ]
    }
   ],
   "source": [
    "count = 0\n",
    "while(count < 5):\n",
    "    print('hello')\n",
    "    count += 1\n",
    "else:\n",
    "    print('This is else block')"
   ]
  },
  {
   "cell_type": "markdown",
   "metadata": {},
   "source": [
    "### For loop\n",
    "- used to iterate over any sequences such as list, tuple, string, etc"
   ]
  },
  {
   "cell_type": "code",
   "execution_count": 13,
   "metadata": {},
   "outputs": [
    {
     "name": "stdout",
     "output_type": "stream",
     "text": [
      "b\n",
      "a\n",
      "n\n",
      "a\n",
      "n\n",
      "a\n"
     ]
    }
   ],
   "source": [
    "for x in 'banana':\n",
    "    print(x)"
   ]
  },
  {
   "cell_type": "markdown",
   "metadata": {},
   "source": [
    "### User-defined function"
   ]
  },
  {
   "cell_type": "code",
   "execution_count": 3,
   "metadata": {},
   "outputs": [
    {
     "name": "stdout",
     "output_type": "stream",
     "text": [
      "Marks of lolita\n",
      "Marks for mathematics 85\n",
      "Marks for Science 96\n",
      "Contact details of the school\n",
      " Delhi Public School\n",
      " Bangalore Karnataka\n",
      "\n"
     ]
    }
   ],
   "source": [
    "# Making results of a student\n",
    "def contact():\n",
    "    print(\"Contact details of the school\\n Delhi Public School\\n Bangalore Karnataka\\n\")\n",
    "\n",
    "\n",
    "for i in range(1):\n",
    "    user_inp =input(\"Name of the student: \")    \n",
    "    maths = int(input(\"enter marks for Mathematics \"))\n",
    "    science = int(input(\"enter marks for Science \"))\n",
    "    print(f\"Marks of {user_inp}\")\n",
    "    print(f\"Marks for mathematics {maths}\")\n",
    "    print(f\"Marks for Science {science}\")\n",
    "    contact()\n",
    "    \n"
   ]
  },
  {
   "cell_type": "markdown",
   "metadata": {},
   "source": [
    "#### Arguments"
   ]
  },
  {
   "cell_type": "code",
   "execution_count": 7,
   "metadata": {},
   "outputs": [
    {
     "name": "stdout",
     "output_type": "stream",
     "text": [
      "Your bill is  14280\n",
      "Last date of payment is 20 April\n",
      "Delayed payments would amount to a fine of 1000€\n"
     ]
    }
   ],
   "source": [
    "# write a pgm to calculate the electricity bill\n",
    "def  electricity_bill(unit_used):\n",
    "    if unit_used <= 500:\n",
    "        print(\"Your bill is \", unit_used * 5)\n",
    "    elif unit_used > 500 and unit_used <= 700:\n",
    "        print(\"Your bill is \", unit_used * 10)\n",
    "    elif unit_used > 700 and unit_used <= 1000:\n",
    "        print(\"Your bill is \", unit_used * 15)  \n",
    "    elif unit_used > 1000 :\n",
    "        print(\"Your bill is \", unit_used * 20)   \n",
    "\n",
    "\n",
    "\n",
    "def customer_notice():\n",
    "    print(\"Last date of payment is 20 April\")\n",
    "    print(\"Delayed payments would amount to a fine of 1000€\")\n",
    "\n",
    "for i in range(1):\n",
    "    user_name = input(\"Enter the name : \")\n",
    "    unit_used = int(input(\"Enter the unit used: \"))\n",
    "    electricity_bill(unit_used)\n",
    "    customer_notice()"
   ]
  },
  {
   "cell_type": "markdown",
   "metadata": {},
   "source": [
    "#### String"
   ]
  },
  {
   "cell_type": "code",
   "execution_count": 1,
   "metadata": {},
   "outputs": [
    {
     "name": "stdout",
     "output_type": "stream",
     "text": [
      "<class 'str'>\n"
     ]
    }
   ],
   "source": [
    "b = \"We are learning Python\"\n",
    "print(type(b))"
   ]
  },
  {
   "cell_type": "code",
   "execution_count": 3,
   "metadata": {},
   "outputs": [
    {
     "data": {
      "text/plain": [
       "'s'"
      ]
     },
     "execution_count": 3,
     "metadata": {},
     "output_type": "execute_result"
    }
   ],
   "source": [
    "# Indexing of strings\n",
    "a = 'hello strings'\n",
    "a[0]\n",
    "a[-1]"
   ]
  },
  {
   "cell_type": "code",
   "execution_count": 7,
   "metadata": {},
   "outputs": [
    {
     "data": {
      "text/plain": [
       "'hlosr'"
      ]
     },
     "execution_count": 7,
     "metadata": {},
     "output_type": "execute_result"
    }
   ],
   "source": [
    "# slicing\n",
    "# [start:end:stop]\n",
    "s = 'hello strings'\n",
    "s[0:5] \n",
    "s[0:10:2]"
   ]
  },
  {
   "cell_type": "code",
   "execution_count": 8,
   "metadata": {},
   "outputs": [
    {
     "data": {
      "text/plain": [
       "'?uoy era woh sgnirts olleh'"
      ]
     },
     "execution_count": 8,
     "metadata": {},
     "output_type": "execute_result"
    }
   ],
   "source": [
    "# reverse\n",
    "r = 'hello strings how are you?'\n",
    "r[::-1]"
   ]
  },
  {
   "cell_type": "code",
   "execution_count": 11,
   "metadata": {},
   "outputs": [
    {
     "name": "stdout",
     "output_type": "stream",
     "text": [
      "HELLO STRINGS HOW ARE YOU?\n"
     ]
    },
    {
     "data": {
      "text/plain": [
       "'hello strings how are you?'"
      ]
     },
     "execution_count": 11,
     "metadata": {},
     "output_type": "execute_result"
    }
   ],
   "source": [
    "# upper and lower method\n",
    "r = 'hello strings how are you?'\n",
    "print(r.upper())\n",
    "r = 'HELLO STRINGS HOW ARE YOU?'\n",
    "r.lower()\n"
   ]
  },
  {
   "cell_type": "code",
   "execution_count": 14,
   "metadata": {},
   "outputs": [
    {
     "name": "stdout",
     "output_type": "stream",
     "text": [
      "bye strings how are you?\n"
     ]
    }
   ],
   "source": [
    "r = 'hello strings how are you?'\n",
    "print(r.replace('hello','bye'))\n"
   ]
  }
 ],
 "metadata": {
  "kernelspec": {
   "display_name": "Python 3",
   "language": "python",
   "name": "python3"
  },
  "language_info": {
   "codemirror_mode": {
    "name": "ipython",
    "version": 3
   },
   "file_extension": ".py",
   "mimetype": "text/x-python",
   "name": "python",
   "nbconvert_exporter": "python",
   "pygments_lexer": "ipython3",
   "version": "3.10.12"
  },
  "orig_nbformat": 4
 },
 "nbformat": 4,
 "nbformat_minor": 2
}
