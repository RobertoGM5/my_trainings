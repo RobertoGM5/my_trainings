{
 "cells": [
  {
   "cell_type": "markdown",
   "metadata": {},
   "source": [
    "## OOP - Object oriented programming\n",
    " - This is a method of structuring a program by bundling related properties and behaviors into individual objects.\n",
    " - They are usually components of a system.\n",
    " - An object is any entity that has attributes(features) and behaviors.\n",
    " - For ex:\n",
    "   - Car:\n",
    "     - Attributes:\n",
    "       - model name\n",
    "       - make\n",
    "       - color\n",
    "       - fuel type\n",
    "     - Behaviors:\n",
    "       - start engine\n",
    "       - Turn left\n",
    "       - Turn right\n",
    "       - Drift \n",
    "\n",
    " #### \n",
    " - Defining a class - blueprint for creating an object\n",
    " - Inheritance- is a way of creating a new class using the details of an existing class.\n",
    " - Polymorphism\n",
    " - Encapsulation - bundling of attributes and methods inside parent"
   ]
  },
  {
   "cell_type": "code",
   "execution_count": 130,
   "metadata": {},
   "outputs": [],
   "source": [
    "# creating a class\n",
    "\n",
    "class Car:\n",
    "    pass"
   ]
  },
  {
   "cell_type": "code",
   "execution_count": 131,
   "metadata": {},
   "outputs": [
    {
     "name": "stdout",
     "output_type": "stream",
     "text": [
      "X7\n"
     ]
    }
   ],
   "source": [
    "class Car:\n",
    "    # class attributes\n",
    "    name = 'X7'\n",
    "    color = ''\n",
    "    engine_cap = 0.0\n",
    "\n",
    "\n",
    "bmw = Car()\n",
    "#bmw.name = 'X6'\n",
    "print(bmw.name )"
   ]
  },
  {
   "cell_type": "code",
   "execution_count": 132,
   "metadata": {},
   "outputs": [
    {
     "name": "stdout",
     "output_type": "stream",
     "text": [
      "X6\n",
      "2.5\n"
     ]
    }
   ],
   "source": [
    "class Car:\n",
    "    # class attributes\n",
    "    name = ''\n",
    "    color = ''\n",
    "    engine_cap = 0.0\n",
    "\n",
    "\n",
    "bmw = Car()\n",
    "bmw.name = 'X6'\n",
    "print(bmw.name )\n",
    "\n",
    "# creating an object\n",
    "\n",
    "suzuki = Car()\n",
    "suzuki.engine_Cap = 2.5\n",
    "\n",
    "\n",
    "print(suzuki.engine_Cap)"
   ]
  },
  {
   "cell_type": "code",
   "execution_count": 133,
   "metadata": {},
   "outputs": [],
   "source": [
    "class Rental:\n",
    "\n",
    "    num_of_days = 0\n",
    "    insurance = False\n",
    "    customer_name = \"\"\n",
    "    self_drive = True\n",
    "\n",
    "# Creating/ instantiating an object\n",
    "rental_1 = Rental() # always with parentheses\n",
    "rental_1.num_of_days = 15\n",
    "rental_1.insurance = True\n",
    "rental_1.customer_name = 'Jonathan'\n",
    "rental_1.self_drive = False"
   ]
  },
  {
   "cell_type": "code",
   "execution_count": 134,
   "metadata": {},
   "outputs": [
    {
     "name": "stdout",
     "output_type": "stream",
     "text": [
      "Carnivorous\n"
     ]
    }
   ],
   "source": [
    "class Animal:\n",
    "\n",
    "    # class attribute\n",
    "    tail = True\n",
    "    species = \"Default\"\n",
    "\n",
    "\n",
    "    # construction method\n",
    "    def __init__(self):\n",
    "        # Instance / object attributes\n",
    "        self.diet = \"Herbivorous\"\n",
    "        self.name = \"Rabbit\"\n",
    "\n",
    "\n",
    "rabbit = Animal()\n",
    "rabbit.diet = \"Carnivorous\"\n",
    "print(rabbit.diet)"
   ]
  },
  {
   "cell_type": "code",
   "execution_count": 135,
   "metadata": {},
   "outputs": [
    {
     "name": "stdout",
     "output_type": "stream",
     "text": [
      "i9\n",
      "Dell screen size : 15 inch\n",
      "macbook screen size : 15 inch\n"
     ]
    }
   ],
   "source": [
    "class Computer:\n",
    "\n",
    "\n",
    "    def __init__(self,ram,storage,processor):#defining objects in one space\n",
    "\n",
    "        #instance attributes\n",
    "        self.screen_size = '15 inch'# can also have  hardcoded values\n",
    "        self.ram = ram\n",
    "        self.storage = storage\n",
    "        self.processor = processor\n",
    "\n",
    "dell = Computer(ram='16GB',storage='1TB',processor='i9')\n",
    "print(dell.processor)\n",
    "print('Dell screen size :',dell.screen_size)\n",
    "\n",
    "macbook = Computer('32Gb','2TB','M2')\n",
    "macbook.storage\n",
    "\n",
    "print('macbook screen size :',macbook.screen_size)\n"
   ]
  },
  {
   "cell_type": "markdown",
   "metadata": {},
   "source": [
    "## OOP Concepts\n",
    "\n",
    "- Inheritance\n",
    "  - is a way of creating a new class using the existing class\n",
    "- Polymorphism\n",
    "- Encapsulation\n",
    "- Abstraction"
   ]
  },
  {
   "cell_type": "markdown",
   "metadata": {},
   "source": [
    "### Inheritance"
   ]
  },
  {
   "cell_type": "code",
   "execution_count": 136,
   "metadata": {},
   "outputs": [
    {
     "name": "stdout",
     "output_type": "stream",
     "text": [
      "My name is  Chikku I am a: Dog and I am eating\n",
      "My name is  Tweety I am a: Parrot and I am sleeping\n"
     ]
    }
   ],
   "source": [
    "# Inheritance\n",
    "\n",
    "# Parent/Base class\n",
    "class Animal:\n",
    "\n",
    "\n",
    "    def __init__(self,species,diet,name):\n",
    "        self.species = species\n",
    "        self.diet = diet\n",
    "        self.name = name\n",
    "\n",
    "    \n",
    "    def eat(self):\n",
    "        print(\"My name is \",self.name,\"I am a:\",self.species, \"and I am eating\")\n",
    "\n",
    "    def sleep(self):\n",
    "        print(\"My name is \",self.name,\"I am a:\",self.species, \"and I am sleeping\")\n",
    "\n",
    "\n",
    "dog = Animal(\"Dog\",\"Carnivorous\",\"Chikku\")\n",
    "dog.eat()\n",
    "\n",
    "parrot = Animal('Parrot',\"Herbivorous\",\"Tweety\")\n",
    "parrot.sleep()"
   ]
  },
  {
   "cell_type": "code",
   "execution_count": 137,
   "metadata": {},
   "outputs": [
    {
     "name": "stdout",
     "output_type": "stream",
     "text": [
      "My name is  Chikku I am a: Dog and I am eating\n",
      "Woof , woof!\n",
      "I love running!\n"
     ]
    }
   ],
   "source": [
    "# Inheritance\n",
    "\n",
    "# Parent/Base class\n",
    "class Animal:\n",
    "\n",
    "\n",
    "    def __init__(self,species,diet,name):# constructor class\n",
    "        self.species = species\n",
    "        self.diet = diet\n",
    "        self.name = name\n",
    "\n",
    "    \n",
    "    def eat(self):\n",
    "        print(\"My name is \",self.name,\"I am a:\",self.species, \"and I am eating\")\n",
    "\n",
    "    def sleep(self):\n",
    "        print(\"My name is \",self.name,\"I am a:\",self.species, \"and I am sleeping\")\n",
    "\n",
    "\n",
    "# Derived /Chid class\n",
    "class Dog(Animal):\n",
    "    \n",
    "    def bark(self):\n",
    "        print('Woof , woof!')\n",
    "\n",
    "    def run(self):\n",
    "        print('I love running!')\n",
    "\n",
    "dog = Dog(\"Dog\",\"Carnivorous\",\"Chikku\")\n",
    "dog.eat()\n",
    "dog.bark()\n",
    "dog.run()"
   ]
  },
  {
   "cell_type": "code",
   "execution_count": 138,
   "metadata": {},
   "outputs": [
    {
     "name": "stdout",
     "output_type": "stream",
     "text": [
      "This is the  HR department reporting.\n",
      "the company is limiting funds to 10,000€\n",
      "10256\n"
     ]
    }
   ],
   "source": [
    "\n",
    "class CompanySoftware:\n",
    "\n",
    "    def __init__(self,dept_name,hod):\n",
    "        self.dept_name = dept_name\n",
    "        self.hod = hod\n",
    "\n",
    "\n",
    "    def reporting(self):\n",
    "        print('This is the ',self.dept_name, 'department reporting.' )\n",
    "\n",
    "    def onboarding(self):\n",
    "        print(\"We are onboarding the new employee.\")\n",
    "\n",
    "# child\n",
    "class Accounting(CompanySoftware):\n",
    "\n",
    "    acc_num = 10256 # hard coding without constructors\n",
    "\n",
    "    def budgeting(self):\n",
    "        print(\"the company is limiting funds to 10,000€\")\n",
    "\n",
    "class HumanResources(CompanySoftware):\n",
    "\n",
    "    def hiring(self):\n",
    "        print('We are hiring a new employee.')\n",
    "\n",
    "\n",
    "company = CompanySoftware(\"HR\",\"CEo\")\n",
    "company.reporting()\n",
    "\n",
    "accounting = Accounting(\"HR\",\"CEo\")\n",
    "accounting.budgeting()\n",
    "print(accounting.acc_num)\n"
   ]
  },
  {
   "cell_type": "markdown",
   "metadata": {},
   "source": [
    "### Encapsulation"
   ]
  },
  {
   "cell_type": "code",
   "execution_count": 139,
   "metadata": {},
   "outputs": [
    {
     "name": "stdout",
     "output_type": "stream",
     "text": [
      "1500\n"
     ]
    }
   ],
   "source": [
    "### Encapsulation\n",
    "\n",
    "class Computer:\n",
    "    \n",
    "    def __init__(self):\n",
    "        # private attribute\n",
    "        self.__max_price = 10000\n",
    "\n",
    "    def sell(self):\n",
    "        print(self.__max_price)\n",
    "\n",
    "    def set_max_price(self,price):\n",
    "        self.__max_price = price\n",
    "\n",
    "\n",
    "lenovo = Computer()\n",
    "#lenovo.__max_price # AttributeError: 'Computer' object has no attribute '__max_price'\n",
    "lenovo.set_max_price(1500)\n",
    "lenovo.sell()\n",
    "\n"
   ]
  },
  {
   "cell_type": "code",
   "execution_count": 140,
   "metadata": {},
   "outputs": [
    {
     "name": "stdout",
     "output_type": "stream",
     "text": [
      "previous width: 0\n",
      "new width: 50\n",
      "previous breadth: 0\n",
      "new width: 100\n",
      "Width: 50\n",
      "Breadth: 100\n",
      "Area: 5000\n"
     ]
    }
   ],
   "source": [
    "class Room:\n",
    "\n",
    "    def __init__(self):\n",
    "        # private attributes\n",
    "        self.__width = 0\n",
    "        self.__breadth = 0\n",
    "        self.__area = 0\n",
    "\n",
    "    def set_width(self,width):\n",
    "        print('previous width:',self.__width)\n",
    "        self.__width = width\n",
    "        print('new width:', self.__width)\n",
    "\n",
    "    #helper functions\n",
    "    def set_breadth(self,breadth):\n",
    "        print('previous breadth:', self.__breadth)\n",
    "        self.__breadth = breadth\n",
    "        print('new width:', self.__breadth)\n",
    "\n",
    "    def __calculate_area(self):\n",
    "        self.__area = self.__width * self.__breadth\n",
    "        \n",
    "    def print_matrix(self):\n",
    "        self.__calculate_area()\n",
    "        print('Width:',self.__width)\n",
    "        print('Breadth:',self.__breadth)\n",
    "        print('Area:',self.__area)\n",
    "\n",
    "\n",
    "room = Room()\n",
    "room.set_width(50)\n",
    "room.set_breadth(100)\n",
    "room.print_matrix()\n",
    "#print('This is room width ',room.__width) # AttributeError: 'Room' object has no attribute '__width'\n",
    "#print('Breadth: ',room.breadth) #AttributeError: 'Room' object has no attribute '__width'\n",
    "\n"
   ]
  },
  {
   "cell_type": "markdown",
   "metadata": {},
   "source": [
    "### Polymorphism"
   ]
  },
  {
   "cell_type": "code",
   "execution_count": 141,
   "metadata": {},
   "outputs": [
    {
     "name": "stdout",
     "output_type": "stream",
     "text": [
      "we are building an apartment\n",
      "we are building a mansion\n",
      "we are building the Hut\n",
      "this is a second build\n",
      "this is the ER\n"
     ]
    }
   ],
   "source": [
    "class Building:\n",
    "\n",
    "    #method to build\n",
    "    def build(self):\n",
    "        print('we are building ')\n",
    "\n",
    "    def build_2(self):\n",
    "        print('this is a second build')\n",
    "\n",
    "class Hospital:\n",
    "    def emergency_room(self):\n",
    "        print('this is the ER')\n",
    "\n",
    "class Apartment(Building):\n",
    "\n",
    "    # builds an apartment\n",
    "    def build(self):\n",
    "        print('we are building an apartment')\n",
    "\n",
    "class Mansion(Building):\n",
    "\n",
    "    #builds a mansion\n",
    "\n",
    "    def build(self):\n",
    "        print('we are building a mansion')\n",
    "\n",
    "class Hut(Apartment,Hospital):\n",
    "\n",
    "    def build(self):\n",
    "        print('we are building the Hut')\n",
    "    #pass\n",
    "\n",
    "apartment = Apartment()\n",
    "apartment.build()\n",
    "\n",
    "mansion = Mansion()\n",
    "mansion.build()\n",
    "\n",
    "hut = Hut()\n",
    "hut.build()\n",
    "hut.build_2()\n",
    "hut.emergency_room()\n"
   ]
  },
  {
   "cell_type": "markdown",
   "metadata": {},
   "source": [
    "### Key points\n",
    "\n",
    "- makes programs easy to understand and efficient\n",
    "- Adheres to the DRY principle- class is shareable and code can be reused.\n",
    "- Polymorphism allows the same interface for different objects.\n",
    "- encapsulation is the packing of data and methods into a class so that you can hide the \n",
    "information and restrict access from outside.\n",
    "- Prefix an attribute with a single underscore to make it private by convention"
   ]
  }
 ],
 "metadata": {
  "kernelspec": {
   "display_name": "Python 3",
   "language": "python",
   "name": "python3"
  },
  "language_info": {
   "codemirror_mode": {
    "name": "ipython",
    "version": 3
   },
   "file_extension": ".py",
   "mimetype": "text/x-python",
   "name": "python",
   "nbconvert_exporter": "python",
   "pygments_lexer": "ipython3",
   "version": "3.10.12"
  },
  "orig_nbformat": 4
 },
 "nbformat": 4,
 "nbformat_minor": 2
}
