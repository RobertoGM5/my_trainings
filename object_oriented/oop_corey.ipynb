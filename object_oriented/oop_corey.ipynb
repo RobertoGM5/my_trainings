{
 "cells": [
  {
   "cell_type": "markdown",
   "metadata": {},
   "source": [
    "#### OOP\n",
    "- Class is a blue print for creating instances\n",
    "- Class attributes are variables of a class that are shared between all of its instances"
   ]
  },
  {
   "cell_type": "code",
   "execution_count": 37,
   "metadata": {},
   "outputs": [
    {
     "name": "stdout",
     "output_type": "stream",
     "text": [
      "Corey.schafer@gmail.com\n",
      "test.userr@gmail.com\n"
     ]
    }
   ],
   "source": [
    "class Employee:\n",
    "    pass\n",
    "\n",
    "# class instances\n",
    "emp_1 = Employee()\n",
    "emp_2 = Employee()\n",
    "\n",
    "# instant variables\n",
    "emp_1.first = 'Corey'\n",
    "emp_1.last= 'Schafer'\n",
    "emp_1.email = 'Corey.schafer@gmail.com'\n",
    "emp_1.pay = 50000\n",
    "\n",
    "emp_2.first = 'Test'\n",
    "emp_2.last= 'User'\n",
    "emp_2.email = 'test.userr@gmail.com'\n",
    "emp_2.pay = 60000\n",
    "\n",
    "print(emp_1.email)\n",
    "print(emp_2.email)"
   ]
  },
  {
   "cell_type": "markdown",
   "metadata": {},
   "source": [
    "#### using init method"
   ]
  },
  {
   "cell_type": "code",
   "execution_count": 38,
   "metadata": {},
   "outputs": [
    {
     "name": "stdout",
     "output_type": "stream",
     "text": [
      "Corey.Schafer@gmail.com\n",
      "Test.User@gmail.com\n"
     ]
    }
   ],
   "source": [
    "class Employee:\n",
    "\n",
    "    def __init__(self,first,last,pay):\n",
    "        # set instant variables / class attributes\n",
    "        #variables of a class that are shared between all of its instances\n",
    "        self.first = first\n",
    "        self.last = last\n",
    "        self.pay = pay\n",
    "        self.email = first + '.' + last + '@gmail.com'\n",
    "        \n",
    "\n",
    "# when we create object the instance is passed automatically so e can leave 'self'\n",
    "emp_1 = Employee('Corey','Schafer',50000)\n",
    "emp_2 = Employee('Test','User',60000)\n",
    "\n",
    "print(emp_1.email)\n",
    "print(emp_2.email)"
   ]
  },
  {
   "cell_type": "markdown",
   "metadata": {},
   "source": [
    "#### Methods\n",
    "- each methods within a class automatically takes 'self' as the first argument"
   ]
  },
  {
   "cell_type": "code",
   "execution_count": 39,
   "metadata": {},
   "outputs": [
    {
     "name": "stdout",
     "output_type": "stream",
     "text": [
      "Corey Schafer\n",
      "Test User\n"
     ]
    },
    {
     "data": {
      "text/plain": [
       "'Corey Schafer'"
      ]
     },
     "execution_count": 39,
     "metadata": {},
     "output_type": "execute_result"
    }
   ],
   "source": [
    "class Employee:\n",
    "\n",
    "    def __init__(self,first,last,pay):\n",
    "        # set instance variables / class attributes\n",
    "        #variables of a class that are shared between all of its instances\n",
    "        self.first = first\n",
    "        self.last = last\n",
    "        self.pay = pay\n",
    "        self.email = first + '.' + last + '@gmail.com'\n",
    "\n",
    "    \n",
    "    def full_name(self):\n",
    "        return '{} {}'.format(self.first,self.last)\n",
    "        \n",
    "\n",
    "# when we create object the instance is passed automatically so e can leave 'self'\n",
    "emp_1 = Employee('Corey','Schafer',50000)\n",
    "emp_2 = Employee('Test','User',60000)\n",
    "\n",
    "print(emp_1.full_name())\n",
    "print(emp_2.full_name())\n",
    "\n",
    "Employee.full_name(emp_1)"
   ]
  },
  {
   "cell_type": "markdown",
   "metadata": {},
   "source": [
    "##### Class variables\n",
    "- are variables shared among all instances of a class.\n",
    "- __dict__ (__dict__ ) represents a dictionary or any mapping object that is used to store the attributes of the object. \n",
    "- They are also known as mappingproxy objects."
   ]
  },
  {
   "cell_type": "code",
   "execution_count": 40,
   "metadata": {},
   "outputs": [
    {
     "data": {
      "text/plain": [
       "2"
      ]
     },
     "execution_count": 40,
     "metadata": {},
     "output_type": "execute_result"
    }
   ],
   "source": [
    "class Employee:\n",
    "    #class variable\n",
    "    raise_amount = 1.04\n",
    "    num_employees = 0\n",
    "\n",
    "    def __init__(self,first,last,pay):\n",
    "        # set instance variables / class attributes\n",
    "        #variables of a class that are shared between all of its instances\n",
    "        self.first = first\n",
    "        self.last = last\n",
    "        self.pay = pay\n",
    "        self.email = first + '.' + last + '@gmail.com'\n",
    "        Employee.num_employees += 1\n",
    "\n",
    "    def full_name(self):\n",
    "        return '{} {}'.format(self.first,self.last)\n",
    "    \n",
    "    def apply_raise(self):\n",
    "        self.pay = int(self.pay * self.raise_amount)\n",
    "        \n",
    "emp_1 = Employee('Corey','Schafer',50000)\n",
    "emp_2 = Employee('Test','User',60000)\n",
    "\n",
    "emp_1.raise_amount = 1.05 # will only change the variable value for the instance not the whole class\n",
    "Employee.raise_amount = 1.06 #  will chnage the variable value for whole class\n",
    "#print(emp_1.pay)\n",
    "#emp_1.apply_raise()\n",
    "#print(emp_1.raise_amount)\n",
    "#print(emp_2.raise_amount)\n",
    "#print(emp_1.__dict__) # __dict__ gives the name specs\n",
    "#Employee.__dict__ # __dict__ gives the name specs\n",
    "Employee.num_employees\n"
   ]
  },
  {
   "cell_type": "markdown",
   "metadata": {},
   "source": [
    "#### Regular methods, Class methods and static methods\n",
    "- Regur methods automatically pass 'self' as first argument\n",
    "- Class method by adding a decorator(@classmethod) and automatically pass 'cls' as first argument\n",
    "- static methods don't pass anything and behave like regular functions and we include them in our classes"
   ]
  },
  {
   "cell_type": "code",
   "execution_count": 41,
   "metadata": {},
   "outputs": [
    {
     "data": {
      "text/plain": [
       "'70000'"
      ]
     },
     "execution_count": 41,
     "metadata": {},
     "output_type": "execute_result"
    }
   ],
   "source": [
    "class Employee:\n",
    "    #class variable\n",
    "    raise_amount = 1.04\n",
    "    num_employees = 0\n",
    "\n",
    "    def __init__(self,first,last,pay):\n",
    "        # set instance variables / class attributes\n",
    "        #variables of a class that are shared between all of its instances\n",
    "        self.first = first\n",
    "        self.last = last\n",
    "        self.pay = pay\n",
    "        self.email = first + '.' + last + '@gmail.com'\n",
    "        Employee.num_employees += 1\n",
    "\n",
    "    def full_name(self):\n",
    "        return '{} {}'.format(self.first,self.last)\n",
    "    \n",
    "    def apply_raise(self):\n",
    "        self.pay = int(self.pay * self.raise_amount)\n",
    "    \n",
    "    @classmethod\n",
    "    def set_raise_amt(cls,amount):\n",
    "        cls.raise_amount = amount\n",
    "\n",
    "    @classmethod\n",
    "    def from_string(cls, emp_str):\n",
    "        first,last,pay = emp_str.split('-')\n",
    "        return cls(first,last,pay)\n",
    "        \n",
    "emp_1 = Employee('Corey','Schafer',50000)\n",
    "emp_2 = Employee('Test','User',60000)\n",
    "\n",
    "Employee.set_raise_amt(1.05) # same as Employee.raise_amount = 1.05 # we ran the class method and now we are working with class instead of instance\n",
    "\n",
    "Employee.raise_amount\n",
    "emp_1.raise_amount\n",
    "emp_2.raise_amount\n",
    "## we can use class methods to provide multiple ways to create objects\n",
    "emp_str_1 = 'John-doe-70000'\n",
    "emp_str_2 = 'Steve-Smith-30000'\n",
    "emp_str_3 = 'Jane-doe-90000'\n",
    "\n",
    "# creating new employee from this string\n",
    "new_emp = Employee.from_string(emp_str_1)\n",
    "new_emp.pay\n",
    "\n"
   ]
  },
  {
   "cell_type": "code",
   "execution_count": 42,
   "metadata": {},
   "outputs": [
    {
     "name": "stdout",
     "output_type": "stream",
     "text": [
      "True\n"
     ]
    }
   ],
   "source": [
    "class Employee:\n",
    "    #class variable\n",
    "    raise_amount = 1.04\n",
    "    num_employees = 0\n",
    "\n",
    "    def __init__(self,first,last,pay):\n",
    "        # set instance variables / class attributes\n",
    "        #variables of a class that are shared between all of its instances\n",
    "        self.first = first\n",
    "        self.last = last\n",
    "        self.pay = pay\n",
    "        self.email = first + '.' + last + '@gmail.com'\n",
    "        Employee.num_employees += 1\n",
    "\n",
    "    # class method\n",
    "    def full_name(self):\n",
    "        return '{} {}'.format(self.first,self.last)\n",
    "    \n",
    "\n",
    "    def apply_raise(self):\n",
    "        self.pay = int(self.pay * self.raise_amount)\n",
    "    \n",
    "\n",
    "    @classmethod\n",
    "    def set_raise_amt(cls,amount):\n",
    "        cls.raise_amount = amount\n",
    "\n",
    "\n",
    "    @classmethod\n",
    "    def from_string(cls, emp_str):\n",
    "        first,last,pay = emp_str.split('-')\n",
    "        return cls(first,last,pay)\n",
    "    \n",
    "\n",
    "    @staticmethod\n",
    "    def is_workday(day):\n",
    "        if day.weekday() == 5 or day.weekday() == 6:\n",
    "            return False\n",
    "        return True\n",
    "    \n",
    "        \n",
    "emp_1 = Employee('Corey','Schafer',50000)\n",
    "emp_2 = Employee('Test','User',60000)\n",
    "\n",
    "import datetime\n",
    "my_date = datetime.date(2023,11,13)\n",
    "print(Employee.is_workday(my_date))"
   ]
  },
  {
   "cell_type": "markdown",
   "metadata": {},
   "source": [
    "##### Inheritance- creating Subclasses & super()\n",
    "- Inheritance allows us to inherit attributes and methods from a parent class.\n",
    "- We can create subclasses and get all the functionalities from the parent class which can be overwritten or create new functionalities without affecting the parent class."
   ]
  },
  {
   "cell_type": "code",
   "execution_count": 63,
   "metadata": {},
   "outputs": [
    {
     "name": "stdout",
     "output_type": "stream",
     "text": [
      "emp1 pay 50000\n",
      "emp1 pay after raise: 55000\n",
      "emp2 pay 60000\n",
      "emp2 pay after raise in Developer class: 66000\n",
      "emp1 Language skill: Python\n",
      "emp2 Language skill: Java\n",
      "Sue.Smith@gmail.com\n",
      "--> Corey Schafer\n",
      "--> Test employee\n"
     ]
    },
    {
     "data": {
      "text/plain": [
       "True"
      ]
     },
     "execution_count": 63,
     "metadata": {},
     "output_type": "execute_result"
    }
   ],
   "source": [
    "class Employee:\n",
    "    #class variable\n",
    "    raise_amount = 1.04\n",
    "\n",
    "    def __init__(self,first,last,pay):\n",
    "        # set instance variables / class attributes\n",
    "        #variables of a class that are shared between all of its instances\n",
    "        self.first = first\n",
    "        self.last = last\n",
    "        self.pay = pay\n",
    "        self.email = first + '.' + last + '@gmail.com'\n",
    "        \n",
    "\n",
    "    def full_name(self):\n",
    "        return '{} {}'.format(self.first,self.last)\n",
    "    \n",
    "\n",
    "    def apply_raise(self):\n",
    "        self.pay = int(self.pay * self.raise_amount)\n",
    "    \n",
    "\n",
    "class Developer(Employee):\n",
    "    raise_amount = 1.10\n",
    "    \n",
    "    def __init__(self, first, last, pay,prog_lang):\n",
    "        super().__init__(first, last, pay)\n",
    "        self.prog_lang = prog_lang\n",
    "\n",
    "\n",
    "class Manager(Employee):\n",
    "\n",
    "    def __init__(self, first, last, pay,employees = None):\n",
    "        super().__init__(first, last, pay)\n",
    "        if employees == None:\n",
    "            self.employees = []\n",
    "        else:\n",
    "            self.employees = employees\n",
    "\n",
    "\n",
    "    def add_emp(self,emp):\n",
    "        if emp not in self.employees:\n",
    "            self.employees.append(emp)\n",
    "\n",
    "    def remove_emp(self,emp):\n",
    "        if emp  in self.employees:\n",
    "            self.employees.remove(emp)\n",
    "\n",
    "\n",
    "    def print_emp(self):\n",
    "        for emp in self.employees:\n",
    "            print('-->',emp.full_name())\n",
    "\n",
    "#dev_1 = Employee('Corey','Schafer',50000,'Python')\n",
    "#dev_2 = Developer('Test','employee',60000,'Java')# with edited raise amount in class developer\n",
    "\n",
    "dev_1 = Developer('Corey','Schafer',50000,'Python')\n",
    "dev_2 = Developer('Test','employee',60000,'Java')\n",
    "mgr_1 = Manager('Sue','Smith',90000, [dev_1])\n",
    "\n",
    "print('emp1 pay',dev_1.pay)\n",
    "dev_1.apply_raise()\n",
    "print('emp1 pay after raise:',dev_1.pay)\n",
    "print('emp2 pay',dev_2.pay)\n",
    "dev_2.apply_raise()\n",
    "print('emp2 pay after raise in Developer class:',dev_2.pay)\n",
    "print('emp1 Language skill:',dev_1.prog_lang)\n",
    "print('emp2 Language skill:',dev_2.prog_lang)\n",
    "\n",
    "#print(help(Developer))- detailed view of how inheritance worked here\n",
    "print(mgr_1.email)\n",
    "mgr_1.add_emp(dev_2)\n",
    "mgr_1.print_emp()\n",
    "\n",
    "# Python builtin function to know if an object is an instance of a Class\n",
    "isinstance(mgr_1,Manager) \n",
    "issubclass(Developer,Employee)"
   ]
  }
 ],
 "metadata": {
  "kernelspec": {
   "display_name": "Python 3",
   "language": "python",
   "name": "python3"
  },
  "language_info": {
   "codemirror_mode": {
    "name": "ipython",
    "version": 3
   },
   "file_extension": ".py",
   "mimetype": "text/x-python",
   "name": "python",
   "nbconvert_exporter": "python",
   "pygments_lexer": "ipython3",
   "version": "3.10.12"
  },
  "orig_nbformat": 4
 },
 "nbformat": 4,
 "nbformat_minor": 2
}
