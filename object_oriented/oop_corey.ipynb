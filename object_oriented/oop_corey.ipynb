{
 "cells": [
  {
   "cell_type": "markdown",
   "metadata": {},
   "source": [
    "#### OOP\n",
    "- Class is a blue print for creating instances\n",
    "- Class attributes are variables of a class that are shared between all of its instances"
   ]
  },
  {
   "cell_type": "code",
   "execution_count": 77,
   "metadata": {},
   "outputs": [
    {
     "name": "stdout",
     "output_type": "stream",
     "text": [
      "Corey.schafer@gmail.com\n",
      "test.userr@gmail.com\n"
     ]
    }
   ],
   "source": [
    "class Employee:\n",
    "    pass\n",
    "\n",
    "# class instances\n",
    "emp_1 = Employee()\n",
    "emp_2 = Employee()\n",
    "\n",
    "# instant variables\n",
    "emp_1.first = 'Corey'\n",
    "emp_1.last= 'Schafer'\n",
    "emp_1.email = 'Corey.schafer@gmail.com'\n",
    "emp_1.pay = 50000\n",
    "\n",
    "emp_2.first = 'Test'\n",
    "emp_2.last= 'User'\n",
    "emp_2.email = 'test.userr@gmail.com'\n",
    "emp_2.pay = 60000\n",
    "\n",
    "print(emp_1.email)\n",
    "print(emp_2.email)"
   ]
  },
  {
   "cell_type": "markdown",
   "metadata": {},
   "source": [
    "#### using init method"
   ]
  },
  {
   "cell_type": "code",
   "execution_count": 78,
   "metadata": {},
   "outputs": [
    {
     "name": "stdout",
     "output_type": "stream",
     "text": [
      "Corey.Schafer@gmail.com\n",
      "Test.User@gmail.com\n"
     ]
    }
   ],
   "source": [
    "class Employee:\n",
    "\n",
    "    def __init__(self,first,last,pay):\n",
    "        # set instant variables / class attributes\n",
    "        #variables of a class that are shared between all of its instances\n",
    "        self.first = first\n",
    "        self.last = last\n",
    "        self.pay = pay\n",
    "        self.email = first + '.' + last + '@gmail.com'\n",
    "        \n",
    "\n",
    "# when we create object the instance is passed automatically so e can leave 'self'\n",
    "emp_1 = Employee('Corey','Schafer',50000)\n",
    "emp_2 = Employee('Test','User',60000)\n",
    "\n",
    "print(emp_1.email)\n",
    "print(emp_2.email)"
   ]
  },
  {
   "cell_type": "markdown",
   "metadata": {},
   "source": [
    "#### Methods\n",
    "- each methods within a class automatically takes 'self' as the first argument"
   ]
  },
  {
   "cell_type": "code",
   "execution_count": 79,
   "metadata": {},
   "outputs": [
    {
     "name": "stdout",
     "output_type": "stream",
     "text": [
      "Corey Schafer\n",
      "Test User\n"
     ]
    },
    {
     "data": {
      "text/plain": [
       "'Corey Schafer'"
      ]
     },
     "execution_count": 79,
     "metadata": {},
     "output_type": "execute_result"
    }
   ],
   "source": [
    "class Employee:\n",
    "\n",
    "    def __init__(self,first,last,pay):\n",
    "        # set instance variables / class attributes\n",
    "        #variables of a class that are shared between all of its instances\n",
    "        self.first = first\n",
    "        self.last = last\n",
    "        self.pay = pay\n",
    "        self.email = first + '.' + last + '@gmail.com'\n",
    "\n",
    "    \n",
    "    def full_name(self):\n",
    "        return '{} {}'.format(self.first,self.last)\n",
    "        \n",
    "\n",
    "# when we create object the instance is passed automatically so e can leave 'self'\n",
    "emp_1 = Employee('Corey','Schafer',50000)\n",
    "emp_2 = Employee('Test','User',60000)\n",
    "\n",
    "print(emp_1.full_name())\n",
    "print(emp_2.full_name())\n",
    "\n",
    "Employee.full_name(emp_1)"
   ]
  },
  {
   "cell_type": "markdown",
   "metadata": {},
   "source": [
    "##### Class variables\n",
    "- are variables shared among all instances of a class.\n",
    "- __dict__ (__dict__ ) represents a dictionary or any mapping object that is used to store the attributes of the object. \n",
    "- They are also known as mappingproxy objects."
   ]
  },
  {
   "cell_type": "code",
   "execution_count": 80,
   "metadata": {},
   "outputs": [
    {
     "data": {
      "text/plain": [
       "2"
      ]
     },
     "execution_count": 80,
     "metadata": {},
     "output_type": "execute_result"
    }
   ],
   "source": [
    "class Employee:\n",
    "    #class variable\n",
    "    raise_amount = 1.04\n",
    "    num_employees = 0\n",
    "\n",
    "    def __init__(self,first,last,pay):\n",
    "        # set instance variables / class attributes\n",
    "        #variables of a class that are shared between all of its instances\n",
    "        self.first = first\n",
    "        self.last = last\n",
    "        self.pay = pay\n",
    "        self.email = first + '.' + last + '@gmail.com'\n",
    "        Employee.num_employees += 1\n",
    "\n",
    "    def full_name(self):\n",
    "        return '{} {}'.format(self.first,self.last)\n",
    "    \n",
    "    def apply_raise(self):\n",
    "        self.pay = int(self.pay * self.raise_amount)\n",
    "        \n",
    "emp_1 = Employee('Corey','Schafer',50000)\n",
    "emp_2 = Employee('Test','User',60000)\n",
    "\n",
    "emp_1.raise_amount = 1.05 # will only change the variable value for the instance not the whole class\n",
    "Employee.raise_amount = 1.06 #  will chnage the variable value for whole class\n",
    "#print(emp_1.pay)\n",
    "#emp_1.apply_raise()\n",
    "#print(emp_1.raise_amount)\n",
    "#print(emp_2.raise_amount)\n",
    "#print(emp_1.__dict__) # __dict__ gives the name specs\n",
    "#Employee.__dict__ # __dict__ gives the name specs\n",
    "Employee.num_employees\n"
   ]
  },
  {
   "cell_type": "markdown",
   "metadata": {},
   "source": [
    "#### Regular methods, Class methods and static methods\n",
    "- Regur methods automatically pass 'self' as first argument\n",
    "- Class method by adding a decorator(@classmethod) and automatically pass 'cls' as first argument\n",
    "- static methods don't pass anything and behave like regular functions and we include them in our classes"
   ]
  },
  {
   "cell_type": "code",
   "execution_count": 81,
   "metadata": {},
   "outputs": [
    {
     "data": {
      "text/plain": [
       "'70000'"
      ]
     },
     "execution_count": 81,
     "metadata": {},
     "output_type": "execute_result"
    }
   ],
   "source": [
    "class Employee:\n",
    "    #class variable\n",
    "    raise_amount = 1.04\n",
    "    num_employees = 0\n",
    "\n",
    "    def __init__(self,first,last,pay):\n",
    "        # set instance variables / class attributes\n",
    "        #variables of a class that are shared between all of its instances\n",
    "        self.first = first\n",
    "        self.last = last\n",
    "        self.pay = pay\n",
    "        self.email = first + '.' + last + '@gmail.com'\n",
    "        Employee.num_employees += 1\n",
    "\n",
    "    def full_name(self):\n",
    "        return '{} {}'.format(self.first,self.last)\n",
    "    \n",
    "    def apply_raise(self):\n",
    "        self.pay = int(self.pay * self.raise_amount)\n",
    "    \n",
    "    @classmethod\n",
    "    def set_raise_amt(cls,amount):\n",
    "        cls.raise_amount = amount\n",
    "\n",
    "    @classmethod\n",
    "    def from_string(cls, emp_str):\n",
    "        first,last,pay = emp_str.split('-')\n",
    "        return cls(first,last,pay)\n",
    "        \n",
    "emp_1 = Employee('Corey','Schafer',50000)\n",
    "emp_2 = Employee('Test','User',60000)\n",
    "\n",
    "Employee.set_raise_amt(1.05) # same as Employee.raise_amount = 1.05 # we ran the class method and now we are working with class instead of instance\n",
    "\n",
    "Employee.raise_amount\n",
    "emp_1.raise_amount\n",
    "emp_2.raise_amount\n",
    "## we can use class methods to provide multiple ways to create objects\n",
    "emp_str_1 = 'John-doe-70000'\n",
    "emp_str_2 = 'Steve-Smith-30000'\n",
    "emp_str_3 = 'Jane-doe-90000'\n",
    "\n",
    "# creating new employee from this string\n",
    "new_emp = Employee.from_string(emp_str_1)\n",
    "new_emp.pay\n",
    "\n"
   ]
  },
  {
   "cell_type": "code",
   "execution_count": 82,
   "metadata": {},
   "outputs": [
    {
     "name": "stdout",
     "output_type": "stream",
     "text": [
      "True\n"
     ]
    }
   ],
   "source": [
    "class Employee:\n",
    "    #class variable\n",
    "    raise_amount = 1.04\n",
    "    num_employees = 0\n",
    "\n",
    "    def __init__(self,first,last,pay):\n",
    "        # set instance variables / class attributes\n",
    "        #variables of a class that are shared between all of its instances\n",
    "        self.first = first\n",
    "        self.last = last\n",
    "        self.pay = pay\n",
    "        self.email = first + '.' + last + '@gmail.com'\n",
    "        Employee.num_employees += 1\n",
    "\n",
    "    # class method\n",
    "    def full_name(self):\n",
    "        return '{} {}'.format(self.first,self.last)\n",
    "    \n",
    "\n",
    "    def apply_raise(self):\n",
    "        self.pay = int(self.pay * self.raise_amount)\n",
    "    \n",
    "\n",
    "    @classmethod\n",
    "    def set_raise_amt(cls,amount):\n",
    "        cls.raise_amount = amount\n",
    "\n",
    "\n",
    "    @classmethod\n",
    "    def from_string(cls, emp_str):\n",
    "        first,last,pay = emp_str.split('-')\n",
    "        return cls(first,last,pay)\n",
    "    \n",
    "\n",
    "    @staticmethod\n",
    "    def is_workday(day):\n",
    "        if day.weekday() == 5 or day.weekday() == 6:\n",
    "            return False\n",
    "        return True\n",
    "    \n",
    "        \n",
    "emp_1 = Employee('Corey','Schafer',50000)\n",
    "emp_2 = Employee('Test','User',60000)\n",
    "\n",
    "import datetime\n",
    "my_date = datetime.date(2023,11,13)\n",
    "print(Employee.is_workday(my_date))"
   ]
  },
  {
   "cell_type": "markdown",
   "metadata": {},
   "source": []
  }
 ],
 "metadata": {
  "kernelspec": {
   "display_name": "Python 3",
   "language": "python",
   "name": "python3"
  },
  "language_info": {
   "codemirror_mode": {
    "name": "ipython",
    "version": 3
   },
   "file_extension": ".py",
   "mimetype": "text/x-python",
   "name": "python",
   "nbconvert_exporter": "python",
   "pygments_lexer": "ipython3",
   "version": "3.10.12"
  },
  "orig_nbformat": 4
 },
 "nbformat": 4,
 "nbformat_minor": 2
}
