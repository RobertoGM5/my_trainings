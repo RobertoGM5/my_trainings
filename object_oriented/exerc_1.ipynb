{
 "cells": [
  {
   "cell_type": "code",
   "execution_count": 3,
   "metadata": {},
   "outputs": [
    {
     "name": "stdout",
     "output_type": "stream",
     "text": [
      "500\n",
      "3000\n"
     ]
    }
   ],
   "source": [
    "class Item:\n",
    "    #class method\n",
    "    def calculate_total_price(self, x, y): # self  --> object itself passes as an argument and self represents that\n",
    "        return x * y\n",
    "\n",
    "#creating instances/object of the class\n",
    "item1 = Item()# is equal to random_str = str('4')\n",
    "\n",
    "# assigning attributes\n",
    "item1.name = 'Phone'\n",
    "item1.price = 100\n",
    "item1.quantity = 5\n",
    "print(item1.calculate_total_price(item1.price, item1.quantity))\n",
    "\n",
    "# print(type(item1))\n",
    "# print(type(item1.name))\n",
    "# print(type(item1.quantity)) \n",
    "\n",
    "# 2nd instance / Object\n",
    "item2 = Item()\n",
    "item2.name = 'Laptop'\n",
    "item2.price = 1000\n",
    "item2.quantity = 3\n",
    "print(item2.calculate_total_price(item2.price, item2.quantity))"
   ]
  },
  {
   "cell_type": "markdown",
   "metadata": {},
   "source": [
    "##### Now in the above code lets solve problems with best practices\n",
    "- we don't have a set of rules to pass in order to instantiate an instance successfully.\n",
    "- i.e, for each attribute hardcoding attribute names 'item2.name'\n",
    "- creating __init__ method"
   ]
  },
  {
   "cell_type": "code",
   "execution_count": 4,
   "metadata": {},
   "outputs": [
    {
     "name": "stdout",
     "output_type": "stream",
     "text": [
      "an instance created : Phone\n",
      "an instance created : Laptop\n",
      "Phone 100 10\n",
      "Laptop 1000 10\n",
      "1000\n"
     ]
    },
    {
     "data": {
      "text/plain": [
       "10000"
      ]
     },
     "execution_count": 4,
     "metadata": {},
     "output_type": "execute_result"
    }
   ],
   "source": [
    "class Item:\n",
    "    #instantiating the class\n",
    "    def __init__(self, name, price, quantity =10):\n",
    "        print(f'an instance created : {name}')\n",
    "        self.name = name\n",
    "        self.price = price\n",
    "        self.quantity = quantity\n",
    "    #class method\n",
    "    def calculate_total_price(self):\n",
    "        return self.price * self.quantity\n",
    "\n",
    "#creating instances/object of the class\n",
    "item1 = Item('Phone',100,)# is equal to random_str = str('4')\n",
    "\n",
    "# 2nd instance / Object\n",
    "item2 = Item('Laptop', 1000)\n",
    "print(item1.name,item1.price, item1.quantity)\n",
    "print(item2.name, item2.price, item2.quantity)\n",
    "\n",
    "print(item1.calculate_total_price())\n",
    "item2.calculate_total_price()\n"
   ]
  },
  {
   "cell_type": "markdown",
   "metadata": {},
   "source": [
    "##### Validating data types of values passed\n",
    "- and using assertion method to validate methods in certain ways\n",
    "- ex: no negative values\n",
    "- use assert keyword in python\n",
    "- assert method gives option to provide the users own exception error messages\n"
   ]
  },
  {
   "cell_type": "code",
   "execution_count": 5,
   "metadata": {},
   "outputs": [
    {
     "name": "stdout",
     "output_type": "stream",
     "text": [
      "Phone 100 10\n",
      "Laptop 1000 10\n",
      "1000\n"
     ]
    },
    {
     "data": {
      "text/plain": [
       "10000"
      ]
     },
     "execution_count": 5,
     "metadata": {},
     "output_type": "execute_result"
    }
   ],
   "source": [
    "class Item:\n",
    "    #validating data type/constructor\n",
    "    def __init__(self, name: str, price: float, quantity =10):\n",
    "        # Run validations to the received arguments\n",
    "       \n",
    "        #using assert statements keyword to check if the expectations meet or validate the arguments we receive. \n",
    "        # in this case we expect the arguments to be positive \n",
    "        assert price >= 0 , f'Price {price} is not greater than or equal to zero!'\n",
    "        assert quantity >= 0 , f'Quantity {quantity} is not greater than or equal to zero!'\n",
    "\n",
    "        # Assign to self object\n",
    "        self.name = name\n",
    "        self.price = price\n",
    "        self.quantity = quantity\n",
    "\n",
    "       \n",
    "\n",
    "    #class method\n",
    "    def calculate_total_price(self):\n",
    "        return self.price * self.quantity\n",
    "\n",
    "#creating instances/object of the class\n",
    "item1 = Item('Phone',100,)# is equal to random_str = str('4')\n",
    "\n",
    "# 2nd instance / Object\n",
    "item2 = Item('Laptop', 1000)\n",
    "print(item1.name,item1.price, item1.quantity)\n",
    "print(item2.name, item2.price, item2.quantity)\n",
    "\n",
    "print(item1.calculate_total_price())\n",
    "item2.calculate_total_price()"
   ]
  },
  {
   "cell_type": "markdown",
   "metadata": {},
   "source": [
    "##### Class attributes"
   ]
  },
  {
   "cell_type": "code",
   "execution_count": 16,
   "metadata": {},
   "outputs": [
    {
     "name": "stdout",
     "output_type": "stream",
     "text": [
      "0.8\n",
      "0.8\n",
      "0.8\n",
      "{'__module__': '__main__', 'pay_rate': 0.8, '__init__': <function Item.__init__ at 0x7fb394234d30>, 'calculate_total_price': <function Item.calculate_total_price at 0x7fb394234ca0>, 'apply_discount': <function Item.apply_discount at 0x7fb394234c10>, '__dict__': <attribute '__dict__' of 'Item' objects>, '__weakref__': <attribute '__weakref__' of 'Item' objects>, '__doc__': None}\n",
      "{'name': 'Phone', 'price': 80.0, 'quantity': 1}\n"
     ]
    }
   ],
   "source": [
    "class Item:\n",
    "    pay_rate = 0.8 # The pay rate after 20 discount,() class attribute )\n",
    "    #validating data type/constructor\n",
    "    def __init__(self, name: str, price: float, quantity ):\n",
    "        # Run validations to the received arguments\n",
    "       \n",
    "        #using assert statements keyword to check if the expectations meet or validate the arguments we receive. \n",
    "        # in this case we expect the arguments to be positive \n",
    "        assert price >= 0 , f'Price {price} is not greater than or equal to zero!'\n",
    "        assert quantity >= 0 , f'Quantity {quantity} is not greater than or equal to zero!'\n",
    "\n",
    "        # Assign to self object\n",
    "        self.name = name\n",
    "        self.price = price\n",
    "        self.quantity = quantity \n",
    "\n",
    "    #class method\n",
    "    def calculate_total_price(self):\n",
    "        return self.price * self.quantity\n",
    "    \n",
    "\n",
    "    def apply_discount(self):\n",
    "        self.price = self.price * Item.pay_rate\n",
    "\n",
    "#creating instances/object of the class\n",
    "item1 = Item('Phone',100,1)# is equal to random_str = str('4')\n",
    "item1.apply_discount()\n",
    "# 2nd instance / Object\n",
    "item2 = Item('Laptop', 1000,3)\n",
    "\n",
    "print(Item.pay_rate)\n",
    "print(item1.pay_rate)\n",
    "print(item2.pay_rate)\n",
    "print(Item.__dict__) # this will give all the attributes belonging to the class level\n",
    "print(item1.__dict__) # this will give all the attributes belonging to the this instance level \n",
    "#print(item1.name,item1.price, item1.quantity)\n",
    "#print(item2.name, item2.price, item2.quantity)\n",
    "\n",
    "#print(item1.calculate_total_price())\n",
    "#item2.calculate_total_price()"
   ]
  },
  {
   "cell_type": "code",
   "execution_count": 26,
   "metadata": {},
   "outputs": [
    {
     "name": "stdout",
     "output_type": "stream",
     "text": [
      "item 1 price: 80.0\n",
      "item 2 price: 700.0\n"
     ]
    }
   ],
   "source": [
    "class Item:\n",
    "\n",
    "    pay_rate = 0.8 \n",
    "   \n",
    "    def __init__(self, name: str, price: float, quantity ):\n",
    "       \n",
    "        assert price >= 0 , f'Price {price} is not greater than or equal to zero!'\n",
    "        assert quantity >= 0 , f'Quantity {quantity} is not greater than or equal to zero!'\n",
    "\n",
    "       \n",
    "        self.name = name\n",
    "        self.price = price\n",
    "        self.quantity = quantity \n",
    "\n",
    "    \n",
    "    def calculate_total_price(self):\n",
    "        return self.price * self.quantity\n",
    "    \n",
    "\n",
    "    def apply_discount(self):\n",
    "        self.price = self.price * self.pay_rate # using self here will allow to read the class attributes from instance level\n",
    "\n",
    "#creating instances/object of the class\n",
    "item1 = Item('Phone',100,1)\n",
    "item1.apply_discount()\n",
    "print('item 1 price:',item1.price)# here pay_rate value is read from class level, coming from class attribute\n",
    "\n",
    "item2 = Item('Laptop', 1000,3)\n",
    "item2.pay_rate = 0.7\n",
    "item2.apply_discount()\n",
    "print('item 2 price:',item2.price)\n"
   ]
  }
 ],
 "metadata": {
  "kernelspec": {
   "display_name": "Python 3",
   "language": "python",
   "name": "python3"
  },
  "language_info": {
   "codemirror_mode": {
    "name": "ipython",
    "version": 3
   },
   "file_extension": ".py",
   "mimetype": "text/x-python",
   "name": "python",
   "nbconvert_exporter": "python",
   "pygments_lexer": "ipython3",
   "version": "3.10.12"
  },
  "orig_nbformat": 4
 },
 "nbformat": 4,
 "nbformat_minor": 2
}
