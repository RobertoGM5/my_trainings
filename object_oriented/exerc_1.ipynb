{
 "cells": [
  {
   "cell_type": "code",
   "execution_count": 36,
   "metadata": {},
   "outputs": [
    {
     "name": "stdout",
     "output_type": "stream",
     "text": [
      "500\n",
      "3000\n"
     ]
    }
   ],
   "source": [
    "class Item:\n",
    "    #class method\n",
    "    def calculate_total_price(self, x, y): # self  --> object itself passes as an argument and self represents that\n",
    "        return x * y\n",
    "\n",
    "#creating instances/object of the class\n",
    "item1 = Item()# is equal to random_str = str('4')\n",
    "\n",
    "# assigning attributes\n",
    "item1.name = 'Phone'\n",
    "item1.price = 100\n",
    "item1.quantity = 5\n",
    "print(item1.calculate_total_price(item1.price, item1.quantity))\n",
    "\n",
    "# print(type(item1))\n",
    "# print(type(item1.name))\n",
    "# print(type(item1.quantity)) \n",
    "\n",
    "# 2nd instance / Object\n",
    "item2 = Item()\n",
    "item2.name = 'Laptop'\n",
    "item2.price = 1000\n",
    "item2.quantity = 3\n",
    "print(item2.calculate_total_price(item2.price, item2.quantity))"
   ]
  },
  {
   "cell_type": "markdown",
   "metadata": {},
   "source": [
    "##### Now in the above code lets solve problems with best practices\n",
    "- we don't have a set of rules to pass in order to instantiate an instance successfully.\n",
    "- i.e, for each attribute hardcoding attribute names 'item2.name'\n",
    "- creating __init__ method"
   ]
  },
  {
   "cell_type": "code",
   "execution_count": 37,
   "metadata": {},
   "outputs": [
    {
     "name": "stdout",
     "output_type": "stream",
     "text": [
      "an instance created : Phone\n",
      "an instance created : Laptop\n",
      "Phone 100 10\n",
      "Laptop 1000 10\n",
      "1000\n"
     ]
    },
    {
     "data": {
      "text/plain": [
       "10000"
      ]
     },
     "execution_count": 37,
     "metadata": {},
     "output_type": "execute_result"
    }
   ],
   "source": [
    "class Item:\n",
    "    #instantiating the class\n",
    "    def __init__(self, name, price, quantity =10):\n",
    "        print(f'an instance created : {name}')\n",
    "        self.name = name\n",
    "        self.price = price\n",
    "        self.quantity = quantity\n",
    "    #class method\n",
    "    def calculate_total_price(self):\n",
    "        return self.price * self.quantity\n",
    "\n",
    "#creating instances/object of the class\n",
    "item1 = Item('Phone',100,)# is equal to random_str = str('4')\n",
    "\n",
    "# 2nd instance / Object\n",
    "item2 = Item('Laptop', 1000)\n",
    "print(item1.name,item1.price, item1.quantity)\n",
    "print(item2.name, item2.price, item2.quantity)\n",
    "\n",
    "print(item1.calculate_total_price())\n",
    "item2.calculate_total_price()\n"
   ]
  },
  {
   "cell_type": "markdown",
   "metadata": {},
   "source": [
    "##### Validating data types of values passed\n",
    "- and using assertion method to validate methods in certain ways\n",
    "- ex: no negative values\n",
    "- use assert keyword in python\n",
    "- assert method gives option to provide the users own exception error messages\n"
   ]
  },
  {
   "cell_type": "code",
   "execution_count": 38,
   "metadata": {},
   "outputs": [
    {
     "ename": "AssertionError",
     "evalue": "",
     "output_type": "error",
     "traceback": [
      "\u001b[0;31m---------------------------------------------------------------------------\u001b[0m",
      "\u001b[0;31mAssertionError\u001b[0m                            Traceback (most recent call last)",
      "Cell \u001b[0;32mIn[38], line 21\u001b[0m\n\u001b[1;32m     18\u001b[0m         \u001b[39mreturn\u001b[39;00m \u001b[39mself\u001b[39m\u001b[39m.\u001b[39mprice \u001b[39m*\u001b[39m \u001b[39mself\u001b[39m\u001b[39m.\u001b[39mquantity\n\u001b[1;32m     20\u001b[0m \u001b[39m#creating instances/object of the class\u001b[39;00m\n\u001b[0;32m---> 21\u001b[0m item1 \u001b[39m=\u001b[39m Item(\u001b[39m'\u001b[39;49m\u001b[39mPhone\u001b[39;49m\u001b[39m'\u001b[39;49m,\u001b[39m100\u001b[39;49m,)\u001b[39m# is equal to random_str = str('4')\u001b[39;00m\n\u001b[1;32m     23\u001b[0m \u001b[39m# 2nd instance / Object\u001b[39;00m\n\u001b[1;32m     24\u001b[0m item2 \u001b[39m=\u001b[39m Item(\u001b[39m'\u001b[39m\u001b[39mLaptop\u001b[39m\u001b[39m'\u001b[39m, \u001b[39m1000\u001b[39m)\n",
      "Cell \u001b[0;32mIn[38], line 7\u001b[0m, in \u001b[0;36mItem.__init__\u001b[0;34m(self, name, price, quantity)\u001b[0m\n\u001b[1;32m      3\u001b[0m \u001b[39mdef\u001b[39;00m \u001b[39m__init__\u001b[39m(\u001b[39mself\u001b[39m, name: \u001b[39mstr\u001b[39m, price: \u001b[39mfloat\u001b[39m, quantity \u001b[39m=\u001b[39m\u001b[39m-\u001b[39m\u001b[39m10\u001b[39m):\n\u001b[1;32m      4\u001b[0m     \u001b[39m# Run validations to the received arguments\u001b[39;00m\n\u001b[1;32m      6\u001b[0m     \u001b[39massert\u001b[39;00m price \u001b[39m>\u001b[39m\u001b[39m=\u001b[39m \u001b[39m0\u001b[39m\n\u001b[0;32m----> 7\u001b[0m     \u001b[39massert\u001b[39;00m quantity \u001b[39m>\u001b[39m\u001b[39m=\u001b[39m \u001b[39m0\u001b[39m\n\u001b[1;32m      9\u001b[0m     \u001b[39m# Assign to self object\u001b[39;00m\n\u001b[1;32m     10\u001b[0m     \u001b[39mself\u001b[39m\u001b[39m.\u001b[39mname \u001b[39m=\u001b[39m name\n",
      "\u001b[0;31mAssertionError\u001b[0m: "
     ]
    }
   ],
   "source": [
    "class Item:\n",
    "    #validating data type\n",
    "    def __init__(self, name: str, price: float, quantity =-10):\n",
    "        # Run validations to the received arguments\n",
    "        \n",
    "        assert price >= 0\n",
    "        assert quantity >= 0\n",
    "\n",
    "        # Assign to self object\n",
    "        self.name = name\n",
    "        self.price = price\n",
    "        self.quantity = quantity\n",
    "\n",
    "       \n",
    "\n",
    "    #class method\n",
    "    def calculate_total_price(self):\n",
    "        return self.price * self.quantity\n",
    "\n",
    "#creating instances/object of the class\n",
    "item1 = Item('Phone',100,)# is equal to random_str = str('4')\n",
    "\n",
    "# 2nd instance / Object\n",
    "item2 = Item('Laptop', 1000)\n",
    "print(item1.name,item1.price, item1.quantity)\n",
    "print(item2.name, item2.price, item2.quantity)\n",
    "\n",
    "print(item1.calculate_total_price())\n",
    "item2.calculate_total_price()"
   ]
  }
 ],
 "metadata": {
  "kernelspec": {
   "display_name": "Python 3",
   "language": "python",
   "name": "python3"
  },
  "language_info": {
   "codemirror_mode": {
    "name": "ipython",
    "version": 3
   },
   "file_extension": ".py",
   "mimetype": "text/x-python",
   "name": "python",
   "nbconvert_exporter": "python",
   "pygments_lexer": "ipython3",
   "version": "3.10.12"
  },
  "orig_nbformat": 4
 },
 "nbformat": 4,
 "nbformat_minor": 2
}
