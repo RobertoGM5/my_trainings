{
 "cells": [
  {
   "cell_type": "code",
   "execution_count": 7,
   "metadata": {},
   "outputs": [
    {
     "name": "stdout",
     "output_type": "stream",
     "text": [
      "<class 'str'>\n",
      "<class 'int'>\n",
      "<class 'int'>\n",
      "<class 'int'>\n"
     ]
    }
   ],
   "source": [
    "item1 = 'Phone'\n",
    "item1_price = 100\n",
    "item1_quantity = 5\n",
    "item1_price_total = item1_price * item1_quantity\n",
    "\n",
    "\n",
    "print(type(item1))\n",
    "print(type(item1_price))\n",
    "print(type(item1_quantity))\n",
    "print(type(item1_price_total))"
   ]
  },
  {
   "cell_type": "markdown",
   "metadata": {},
   "source": [
    "#### For each of the above types we see the key word of class. \n",
    "- This means those data types are instances of strings or integers\n",
    "- In Python programming language, each data type is an object that has been instantiated earlier by some class\n"
   ]
  },
  {
   "cell_type": "markdown",
   "metadata": {},
   "source": [
    "### A class contains the blueprints or the prototype from which the objects are being created. \n",
    "- It is a logical entity that contains some attributes and methods. "
   ]
  },
  {
   "cell_type": "code",
   "execution_count": 8,
   "metadata": {},
   "outputs": [],
   "source": [
    "class Dog:\n",
    "    pass"
   ]
  },
  {
   "cell_type": "markdown",
   "metadata": {},
   "source": [
    "### Python objects - Object is an instance of a class.\n",
    "- The object is an entity that has a state and behavior associated with it. It may be any real-world object like a mouse, keyboard, chair, table, pen, etc. Integers, strings, floating-point numbers, even arrays, and dictionaries, are all objects. \n",
    "- An object consists of:\n",
    "  - State: It is represented by the attributes of an object. It also reflects the properties of an object.\n",
    "    - State or attribute in case of a dog can be breed,age, color etc.\n",
    "  - Behavior: It is represented by the methods of an object. It also reflects the response of an object to other objects.\n",
    "    - whether the dog is eating or sleeping\n",
    "  - Identity: It gives a unique name to an object and enables one object to interact with other objects.\n",
    "    - name of the dog"
   ]
  },
  {
   "cell_type": "code",
   "execution_count": 9,
   "metadata": {},
   "outputs": [],
   "source": [
    "class Test:\n",
    "\n",
    "    school_name = 'ABC' # Class variable\n",
    "    def __init__(self,num):\n",
    "        self.num = num # instance variable"
   ]
  },
  {
   "cell_type": "code",
   "execution_count": 10,
   "metadata": {},
   "outputs": [
    {
     "name": "stdout",
     "output_type": "stream",
     "text": [
      "Employee: John 1000 ABC Company\n",
      "Employee: Polly 1500 ABC Company\n"
     ]
    }
   ],
   "source": [
    "class Employee:\n",
    "\n",
    "    # class variables\n",
    "    company_name = 'ABC Company'\n",
    "\n",
    "    # constructor to initialize the object\n",
    "    def __init__(self,name,salary):#(attribute)\n",
    "        #instance variables\n",
    "        self.name = name\n",
    "        self.salary = salary\n",
    "\n",
    "    # instance method\n",
    "    def show(self):\n",
    "        print(\"Employee:\", self.name, self.salary,self.company_name)\n",
    "\n",
    "\n",
    "# create the first Object\n",
    "\n",
    "empl_1 = Employee('John',1000)\n",
    "empl_1.show()\n",
    "\n",
    "\n",
    "# create second object\n",
    "\n",
    "empl_2 = Employee('Polly',1500)\n",
    "empl_2.show()"
   ]
  },
  {
   "cell_type": "markdown",
   "metadata": {},
   "source": [
    "#### Encapsulation\n",
    "- In Python, encapsulation is a method of wrapping data and functions into a single entity. \n",
    "- For example, A class encapsulates all the data ( methods and variables). \n",
    "- Encapsulation means the internal representation of an object is generally hidden from outside of the object's definition.\n",
    "#### Need for encapsulation\n",
    "- Encapsulation acts as a protective layer. We can restrict access to methods and variables from outside, \n",
    "- and It can prevent the data from being modified by accidental or unauthorized modification. \n",
    "- Encapsulation provides security by hiding the data from the outside world."
   ]
  },
  {
   "cell_type": "code",
   "execution_count": 11,
   "metadata": {},
   "outputs": [
    {
     "name": "stdout",
     "output_type": "stream",
     "text": [
      "Employee: Alina Salary: 1200\n",
      "Alina is working on the Blacklist\n"
     ]
    },
    {
     "ename": "AttributeError",
     "evalue": "'Employee' object has no attribute '__salary'",
     "output_type": "error",
     "traceback": [
      "\u001b[0;31m---------------------------------------------------------------------------\u001b[0m",
      "\u001b[0;31mAttributeError\u001b[0m                            Traceback (most recent call last)",
      "Cell \u001b[0;32mIn[11], line 27\u001b[0m\n\u001b[1;32m     25\u001b[0m emp_1\u001b[39m.\u001b[39mwork()\n\u001b[1;32m     26\u001b[0m \u001b[39m# trying to access salary from outside the class\u001b[39;00m\n\u001b[0;32m---> 27\u001b[0m \u001b[39mprint\u001b[39m(emp_1\u001b[39m.\u001b[39;49m__salary)\n",
      "\u001b[0;31mAttributeError\u001b[0m: 'Employee' object has no attribute '__salary'"
     ]
    }
   ],
   "source": [
    "class Employee:\n",
    "\n",
    "    # constructor\n",
    "    def __init__(self,name,salary,project):\n",
    "        # data members\n",
    "        self.name = name\n",
    "        self.project = project\n",
    "        #not accessible outside of a class\n",
    "        self.__salary = salary \n",
    "        \n",
    "\n",
    "    # Method\n",
    "    # to display employee's details\n",
    "    def show(self):\n",
    "        # accessing public data member\n",
    "        print(\"Employee:\",self.name, 'Salary:',self.__salary)\n",
    "\n",
    "    # method\n",
    "    def work(self):\n",
    "        print(self.name, \"is working on the\", self.project)\n",
    "\n",
    "# class object\n",
    "emp_1 = Employee('Alina',1200,'Blacklist')\n",
    "emp_1.show()\n",
    "emp_1.work()\n",
    "# trying to access salary from outside the class\n",
    "print(emp_1.__salary)\n"
   ]
  },
  {
   "cell_type": "markdown",
   "metadata": {},
   "source": [
    "#### Polymorphism \n",
    "- Polymorphism in OOP is the ability of an object to take many forms. \n",
    "- In simple words, polymorphism allows us to perform the same action in many different ways.\n",
    "- For ex:\n",
    "- in the programming language, the + operator, acts as a concatenation and arithmetic addition"
   ]
  },
  {
   "cell_type": "code",
   "execution_count": null,
   "metadata": {},
   "outputs": [
    {
     "name": "stdout",
     "output_type": "stream",
     "text": [
      "Area of the circle : 78.5\n",
      "Area of the rectangle : 50\n"
     ]
    }
   ],
   "source": [
    "class Circle:\n",
    "\n",
    "    pi = 3.14\n",
    "\n",
    "    def __init__(self,radius):\n",
    "        self.radius = radius\n",
    "\n",
    "\n",
    "    def calculate_area(self):\n",
    "        print('Area of the circle :', self.pi * self.radius * self.radius)\n",
    "\n",
    "\n",
    "class Rectangle:\n",
    "    \n",
    "    \n",
    "    def __init__(self,length,width):\n",
    "\n",
    "        self.length = length\n",
    "        self.width = width\n",
    "\n",
    "\n",
    "    def calculate_area(self):\n",
    "        print('Area of the rectangle :', self.length * self.width)\n",
    "\n",
    "\n",
    "\n",
    "# this function definition will let to call the common func here calculate_area \n",
    "def area(shape):\n",
    "    shape.calculate_area()\n",
    "\n",
    "\n",
    "# create Object\n",
    "cir = Circle(5)\n",
    "rec = Rectangle(10,5)\n",
    "\n",
    "#cir.calculate_area()\n",
    "#rec.calculate_area()\n",
    "\n",
    "#call common function\n",
    "area(cir)\n",
    "area(rec)\n"
   ]
  },
  {
   "cell_type": "markdown",
   "metadata": {},
   "source": [
    "#### Inheritance\n",
    "- inheritance is the process of inheriting the properties of the parent class into a child class. "
   ]
  },
  {
   "cell_type": "markdown",
   "metadata": {},
   "source": [
    "#####  Multiple Inheritance\n",
    "- one child class can inherit from multiple parent classes. So here is one child class and multiple parent classes."
   ]
  },
  {
   "cell_type": "code",
   "execution_count": null,
   "metadata": {},
   "outputs": [
    {
     "name": "stdout",
     "output_type": "stream",
     "text": [
      "Inside Employee class \n",
      "Salary: 50,000 Skill: HR\n"
     ]
    }
   ],
   "source": [
    "#Parent class 1\n",
    "class Person:\n",
    "\n",
    "    def person_info(self,name,age):\n",
    "        print('Inside person class')\n",
    "        print('Name:', name, 'Age:', age)\n",
    "\n",
    "\n",
    "#Parent class 2\n",
    "class Company:\n",
    "\n",
    "    def company_info(self,company_name,location):\n",
    "        print('Inside Company class ')\n",
    "        print(f'Name: {company_name}, Location: {location}')\n",
    "\n",
    "\n",
    "# Child class\n",
    "\n",
    "class Employee(Person,Company):\n",
    "\n",
    "    def employee_info(self,salary,skill):\n",
    "        print('Inside Employee class ')\n",
    "        print('Salary:',salary,'Skill:',skill)\n",
    "\n",
    "# create object for employee\n",
    "emp_1 = Employee()\n",
    "\n",
    "#access data\n",
    "#emp_1.person_info('Jolly','36')\n",
    "#emp_1.company_info('Data','Berlin')\n",
    "emp_1.employee_info('50,000','HR')\n",
    "\n"
   ]
  },
  {
   "cell_type": "markdown",
   "metadata": {},
   "source": [
    "##### Multilevel Inheritance\n",
    "- In multilevel inheritance, a class inherits from a child class or derived class. Suppose three classes A, B, C. A is the superclass, B is the child class of A, C is the child class of B."
   ]
  },
  {
   "cell_type": "code",
   "execution_count": null,
   "metadata": {},
   "outputs": [
    {
     "name": "stdout",
     "output_type": "stream",
     "text": [
      "Inside car class\n",
      "Inside vehicle class\n",
      "Inside sports car class\n"
     ]
    }
   ],
   "source": [
    "# Base class\n",
    "class Vehicle:\n",
    "\n",
    "    def vehicle_info(self):\n",
    "        print('Inside vehicle class')\n",
    "\n",
    "\n",
    "# Child class\n",
    "class Car(Vehicle):\n",
    "    def car_info(self):\n",
    "        print('Inside car class')\n",
    "\n",
    "\n",
    "#child class\n",
    "class SportsCar(Car):\n",
    "    def sports_car_info(self):\n",
    "        print('Inside sports car class')\n",
    "\n",
    "\n",
    "# Create object of SportsCar\n",
    "s = SportsCar()\n",
    "\n",
    "# access Vehicle's and Car info using SportsCar object\n",
    "s.car_info()\n",
    "s.vehicle_info()\n",
    "s.sports_car_info()"
   ]
  }
 ],
 "metadata": {
  "kernelspec": {
   "display_name": "Python 3",
   "language": "python",
   "name": "python3"
  },
  "language_info": {
   "codemirror_mode": {
    "name": "ipython",
    "version": 3
   },
   "file_extension": ".py",
   "mimetype": "text/x-python",
   "name": "python",
   "nbconvert_exporter": "python",
   "pygments_lexer": "ipython3",
   "version": "3.10.12"
  },
  "orig_nbformat": 4
 },
 "nbformat": 4,
 "nbformat_minor": 2
}
